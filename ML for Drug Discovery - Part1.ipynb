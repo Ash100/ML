{
 "cells": [
  {
   "cell_type": "markdown",
   "id": "07c2cf88",
   "metadata": {},
   "source": [
    "# **Machine Learning (ML) For Drug Discovery - Part 1**\n",
    "This is a complete technology crash course, where you will get a fair idea that how ML works, and how can you use it for a project of Drug Discovery. I have tried my level best to keep things simple, and you do not feel any need to code, therefore, I must say, it suits biologist. Here, I want to acknowledge and refer materials of Dr. Chanin Nantasenamat an Associate professor in Bioinformatics. These materials are compilled by **Dr. Ashfaq Ahmad**.\n",
    "\n",
    "## **ChEMBL Database**\n",
    "\n",
    "(https://www.ebi.ac.uk/chembl/)\n",
    "\n",
    "ChEMBL is a manually curated database of bioactive molecules with drug-like properties. It brings together chemicals, their bioactivity and genomic data to aid the translation of genomic information into effective new drugs.\n",
    "\n",
    "(**Citation:** *Nucleic Acids Res. 2019; 47(D1):D930-D940. doi: 10.1093/nar/gky1075*)\n",
    "\n",
    "I will train you on the use and importance of ChEMBL database during this part of training. I will also teach you how can we pick and process data from the ChEMBL database. \n",
    "\n",
    "You will be required to execute the cells by clicking the ***Play*** button, with certain changes as per your project details.\n",
    "\n",
    "\n",
    "### **Step 1 - Installing and Import Required Libraries**\n",
    "\n",
    "Running the following cell will install ChEMBL webresources for the project to initiate.\n",
    "Citation: https://www.ncbi.nlm.nih.gov/pmc/articles/PMC4489283/"
   ]
  },
  {
   "cell_type": "code",
   "execution_count": null,
   "id": "85d26c3a",
   "metadata": {},
   "outputs": [],
   "source": [
    "! pip install chembl_webresource_client"
   ]
  },
  {
   "cell_type": "code",
   "execution_count": null,
   "id": "95896203",
   "metadata": {},
   "outputs": [],
   "source": [
    "import pandas as pd\n",
    "from chembl_webresource_client.new_client import new_client"
   ]
  },
  {
   "cell_type": "markdown",
   "id": "a907f9bc",
   "metadata": {},
   "source": [
    "### **Step 2 - Picking your desired Target from ChEMBL**\n",
    "\n",
    "Here we will launch search for the desired target protein or enzyme. To overcome any possibility of a potential mistake, it is highly advised also to confirm you ChEMBL ID from the direct database (ChEMBL) search."
   ]
  },
  {
   "cell_type": "code",
   "execution_count": null,
   "id": "eea9cec9",
   "metadata": {},
   "outputs": [],
   "source": [
    "# As an example I will use P2Y purinoceptor 1 protein (UniProt Accession P47900)\n",
    "target = new_client.target\n",
    "target_query = target.search('CHEMBL4315')\n",
    "targets = pd.DataFrame.from_dict(target_query)\n",
    "targets"
   ]
  },
  {
   "cell_type": "markdown",
   "id": "7ed4f6e7",
   "metadata": {},
   "source": [
    "### **Step 3 - Selection and Retrieval Bioactivity data**\n",
    "\n",
    "In case you are hit with multiple data lines, then you need to choose the desired data, using the index number below in the cell."
   ]
  },
  {
   "cell_type": "code",
   "execution_count": null,
   "id": "c752d5da",
   "metadata": {},
   "outputs": [],
   "source": [
    "selected_target = targets.target_chembl_id[0]\n",
    "selected_target"
   ]
  },
  {
   "cell_type": "markdown",
   "id": "f5922c31",
   "metadata": {},
   "source": [
    "If you carefully look to the data columns, you will find variety of variable. Here we are interested to perform analysis for Antagonist, therefore, I will go with IC50 column. Please read about IC50 values incase you are not aware."
   ]
  },
  {
   "cell_type": "code",
   "execution_count": null,
   "id": "b9bed3c5",
   "metadata": {},
   "outputs": [],
   "source": [
    "activity = new_client.activity\n",
    "res = activity.filter(target_chembl_id=selected_target).filter(standard_type=\"IC50\")\n",
    "df = pd.DataFrame.from_dict(res)"
   ]
  },
  {
   "cell_type": "code",
   "execution_count": null,
   "id": "0355aeb1",
   "metadata": {},
   "outputs": [],
   "source": [
    "df"
   ]
  },
  {
   "cell_type": "markdown",
   "id": "2d8771e6",
   "metadata": {},
   "source": [
    "Lets play with the above data that contains too many rows and columns. By running the below command, you will only see the first four data lines."
   ]
  },
  {
   "cell_type": "code",
   "execution_count": null,
   "id": "bc3a7ff3",
   "metadata": {},
   "outputs": [],
   "source": [
    "df.head(4)"
   ]
  },
  {
   "cell_type": "markdown",
   "id": "67017104",
   "metadata": {},
   "source": [
    "The standard_type column in the data contains IC50. If you want to validate, so better to search for the unique features in the standard_type"
   ]
  },
  {
   "cell_type": "code",
   "execution_count": null,
   "id": "9d4458e7",
   "metadata": {},
   "outputs": [],
   "source": [
    "df.standard_type.unique()"
   ]
  },
  {
   "cell_type": "markdown",
   "id": "277d9cb4",
   "metadata": {},
   "source": [
    "Now, here I want you to save your data in the Google Drive. For ease, you need first to connect your gdrive to this notebook."
   ]
  },
  {
   "cell_type": "code",
   "execution_count": null,
   "id": "018ff1c1",
   "metadata": {},
   "outputs": [],
   "source": [
    "from google.colab import drive\n",
    "drive.mount('/content/gdrive/', force_remount=True)"
   ]
  },
  {
   "cell_type": "markdown",
   "id": "0108c042",
   "metadata": {},
   "source": [
    "Once the drive is mounted, please make a new folder with a name data where you can save your work directly"
   ]
  },
  {
   "cell_type": "code",
   "execution_count": null,
   "id": "abf9a89d",
   "metadata": {},
   "outputs": [],
   "source": [
    "! ls /content/gdrive/MyDrive/"
   ]
  },
  {
   "cell_type": "code",
   "execution_count": null,
   "id": "77cc8d41",
   "metadata": {},
   "outputs": [],
   "source": [
    "! mkdir \"/content/gdrive/MyDrive/Colab Notebooks/data\""
   ]
  },
  {
   "cell_type": "markdown",
   "id": "402828f7",
   "metadata": {},
   "source": [
    "Now we are now in a position to save our data in a CSV file. I will use the name Bioactivity_data.csv"
   ]
  },
  {
   "cell_type": "code",
   "execution_count": null,
   "id": "18766a75",
   "metadata": {},
   "outputs": [],
   "source": [
    "df.to_csv('P2Y1-01-bioactivity_data_raw.csv', index=False)"
   ]
  },
  {
   "cell_type": "code",
   "execution_count": null,
   "id": "3eb693e7",
   "metadata": {},
   "outputs": [],
   "source": [
    "! cp P2Y1-01-bioactivity_data_raw.csv \"/content/gdrive/MyDrive/Colab Notebooks/data\""
   ]
  },
  {
   "cell_type": "code",
   "execution_count": null,
   "id": "bf63fb2d",
   "metadata": {},
   "outputs": [],
   "source": [
    "ls \"/content/gdrive/MyDrive/Colab Notebooks/data\""
   ]
  },
  {
   "cell_type": "markdown",
   "id": "89a722aa",
   "metadata": {},
   "source": [
    "How our data looks like, take a look if you want to"
   ]
  },
  {
   "cell_type": "code",
   "execution_count": null,
   "id": "42f7b9fb",
   "metadata": {},
   "outputs": [],
   "source": [
    "! head P2Y1-01-bioactivity_data_raw.csv"
   ]
  },
  {
   "cell_type": "markdown",
   "id": "6af0ccfc",
   "metadata": {},
   "source": [
    "### **Step 4 - Treating Missing Data**\n",
    "\n",
    "There comes a possibility that some of the ChEMBL compounds may contain missing value for the **standared_value (IC50)** and **canonical_smiles**. Therefore, we need to remove such entries from the data."
   ]
  },
  {
   "cell_type": "code",
   "execution_count": null,
   "id": "8a9699fc",
   "metadata": {},
   "outputs": [],
   "source": [
    "df2 = df[df.standard_value.notna()]"
   ]
  },
  {
   "cell_type": "code",
   "execution_count": null,
   "id": "33deaac0",
   "metadata": {},
   "outputs": [],
   "source": [
    "df2 = df[df.canonical_smiles.notna()]"
   ]
  },
  {
   "cell_type": "code",
   "execution_count": null,
   "id": "569c975f",
   "metadata": {},
   "outputs": [],
   "source": [
    "df2"
   ]
  },
  {
   "cell_type": "code",
   "execution_count": null,
   "id": "2a7360e0",
   "metadata": {},
   "outputs": [],
   "source": [
    "len(df2.canonical_smiles.unique())"
   ]
  },
  {
   "cell_type": "code",
   "execution_count": null,
   "id": "06260550",
   "metadata": {},
   "outputs": [],
   "source": [
    "df2_nr = df2.drop_duplicates(['canonical_smiles'])"
   ]
  },
  {
   "cell_type": "code",
   "execution_count": null,
   "id": "bd7fe267",
   "metadata": {},
   "outputs": [],
   "source": [
    "df2_nr"
   ]
  },
  {
   "cell_type": "markdown",
   "id": "71c19f10",
   "metadata": {},
   "source": [
    "### **Step 5 - Data Preprocessing**\n",
    "\n",
    "We will be interested to keep record of the three columns, **ChEMBL_id**, **canonical_smiles**, and **standard_value**."
   ]
  },
  {
   "cell_type": "code",
   "execution_count": null,
   "id": "940064bf",
   "metadata": {},
   "outputs": [],
   "source": [
    "selection = ['molecule_chembl_id','canonical_smiles','standard_value']\n",
    "df3 = df2_nr[selection]"
   ]
  },
  {
   "cell_type": "code",
   "execution_count": null,
   "id": "c4a696d9",
   "metadata": {},
   "outputs": [],
   "source": [
    "df3"
   ]
  },
  {
   "cell_type": "markdown",
   "id": "036cbf7d",
   "metadata": {},
   "source": [
    "Now we need to save data frame or the df3 to the CSV file."
   ]
  },
  {
   "cell_type": "code",
   "execution_count": null,
   "id": "d4df7b81",
   "metadata": {},
   "outputs": [],
   "source": [
    "df3.to_csv('P2Y1-bioactivity-data-02-preprocessed.csv', index=False)"
   ]
  },
  {
   "cell_type": "markdown",
   "id": "bfb08b2c",
   "metadata": {},
   "source": [
    "### **Step 6 - Labeling compounds to different categories**\n",
    "\n",
    "Here we will need to categorize these compounds into different catergories, based on the IC50 value or **standard_value**. For the purpose, we will classify three groups, **Active**, **Inactive**, **Intermediate**. Compounds with IC50 value less than 1000 nM will be considered active drugs, those greater than 10,000 nM will be considered inactive and IC50 value in greater than 1000 and below 10,000 will be termed as intermediate."
   ]
  },
  {
   "cell_type": "code",
   "execution_count": null,
   "id": "cd62fc4d",
   "metadata": {},
   "outputs": [],
   "source": [
    "df4 = pd.read_csv('P2Y1-bioactivity-data-02-preprocessed.csv')"
   ]
  },
  {
   "cell_type": "code",
   "execution_count": null,
   "id": "029c4190",
   "metadata": {},
   "outputs": [],
   "source": [
    "bioactivity_threshold = []\n",
    "for i in df4.standard_value:\n",
    "  if float(i) >= 10000:\n",
    "    bioactivity_threshold.append(\"inactive\")\n",
    "  elif float(i) <= 1000:\n",
    "    bioactivity_threshold.append(\"active\")\n",
    "  else:\n",
    "    bioactivity_threshold.append(\"intermediate\")"
   ]
  },
  {
   "cell_type": "code",
   "execution_count": null,
   "id": "4a297f76",
   "metadata": {},
   "outputs": [],
   "source": [
    "bioactivity_class = pd.Series(bioactivity_threshold, name='class')\n",
    "df5 = pd.concat([df4, bioactivity_class], axis=1)"
   ]
  },
  {
   "cell_type": "code",
   "execution_count": null,
   "id": "e0f73684",
   "metadata": {},
   "outputs": [],
   "source": [
    "df5"
   ]
  },
  {
   "cell_type": "markdown",
   "id": "5d9066ea",
   "metadata": {},
   "source": [
    "Now we need to save the above dataframe or df5 to the CSV file."
   ]
  },
  {
   "cell_type": "code",
   "execution_count": null,
   "id": "81795963",
   "metadata": {},
   "outputs": [],
   "source": [
    "df5.to_csv('P2Y1_03_bioactivity_data_curated.csv', index=False)"
   ]
  },
  {
   "cell_type": "code",
   "execution_count": null,
   "id": "774691c5",
   "metadata": {},
   "outputs": [],
   "source": [
    "! zip P2Y1-part1-data.zip *.csv"
   ]
  },
  {
   "cell_type": "code",
   "execution_count": null,
   "id": "8ec12bca",
   "metadata": {},
   "outputs": [],
   "source": [
    "! cp P2Y1_03_bioactivity_data_curated.csv \"/content/gdrive/MyDrive/Colab Notebooks/data\""
   ]
  },
  {
   "cell_type": "code",
   "execution_count": null,
   "id": "84dba4f5",
   "metadata": {},
   "outputs": [],
   "source": [
    "ls \"/content/gdrive/MyDrive/Colab Notebooks/data\""
   ]
  }
 ],
 "metadata": {
  "kernelspec": {
   "display_name": "Python 3 (ipykernel)",
   "language": "python",
   "name": "python3"
  },
  "language_info": {
   "codemirror_mode": {
    "name": "ipython",
    "version": 3
   },
   "file_extension": ".py",
   "mimetype": "text/x-python",
   "name": "python",
   "nbconvert_exporter": "python",
   "pygments_lexer": "ipython3",
   "version": "3.10.9"
  }
 },
 "nbformat": 4,
 "nbformat_minor": 5
}
