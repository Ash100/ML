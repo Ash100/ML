{
 "cells": [
  {
   "cell_type": "markdown",
   "id": "d6ade184",
   "metadata": {},
   "source": [
    "# **Descriptor Calculation and Dataset Preparation Part-3**\n",
    "\n",
    "In the previous two sessions we have achieved much. Now we are ready to make some necessary arrangenments and prepare our dataset from Machine Learning setups. The data prepared in this section will be used for Model builing in Machine Learning. During the preparation of these modules, I took help and guidance from the materials and lectures of Dr. Chanin Nantasenamat an Associate professor in Bioinformatics.\n",
    "This current Notebook is created by **Dr. Ashfaq Ahmad**.\n",
    "\n",
    "From the perspective of a Chemist, organic molecules contain specific properties, likewise in the form of variety of functional groups. Here we will try to identify and extract such information, to we call here **Descriptors**. In other words, Descriptors are the fingerprints of each organic molecules. So, in this section we will probe these descriptors and later we will feed them to ML models. "
   ]
  },
  {
   "cell_type": "markdown",
   "id": "2d8dd67a",
   "metadata": {},
   "source": [
    "### **Downloading PaDEL-Descriptor Program**\n",
    "We will use PaDEL open source program, that is designed for calculating molecular descriptors and fingerprints of organic molecules.\n",
    "**Citation:**https://pubmed.ncbi.nlm.nih.gov/21425294"
   ]
  },
  {
   "cell_type": "code",
   "execution_count": null,
   "id": "b2ec965e",
   "metadata": {},
   "outputs": [],
   "source": [
    "! wget https://github.com/dataprofessor/bioinformatics/raw/master/padel.zip\n",
    "! wget https://github.com/dataprofessor/bioinformatics/raw/master/padel.sh"
   ]
  },
  {
   "cell_type": "code",
   "execution_count": null,
   "id": "0680ad65",
   "metadata": {},
   "outputs": [],
   "source": [
    "! unzip padel.zip"
   ]
  },
  {
   "cell_type": "markdown",
   "id": "c78a5ea3",
   "metadata": {},
   "source": [
    "###**Upload data prepared in Part - 2**\n",
    "Here we will upload the bioactivity data 03 class. "
   ]
  },
  {
   "cell_type": "code",
   "execution_count": null,
   "id": "6370d86a",
   "metadata": {},
   "outputs": [],
   "source": [
    "from google.colab import files\n",
    "uploaded = files.upload()"
   ]
  },
  {
   "cell_type": "code",
   "execution_count": null,
   "id": "bbf8ca4c",
   "metadata": {},
   "outputs": [],
   "source": [
    "import pandas as pd"
   ]
  },
  {
   "cell_type": "code",
   "execution_count": null,
   "id": "4f00df94",
   "metadata": {},
   "outputs": [],
   "source": [
    "df3 = pd.read_csv('P2Y1_04_bioactivity_data_3class_pIC50.csv')"
   ]
  },
  {
   "cell_type": "code",
   "execution_count": null,
   "id": "fb3fa073",
   "metadata": {},
   "outputs": [],
   "source": [
    "df3"
   ]
  },
  {
   "cell_type": "code",
   "execution_count": null,
   "id": "d532d55f",
   "metadata": {},
   "outputs": [],
   "source": [
    "selection = ['canonical_smiles','molecule_chembl_id']\n",
    "df3_selection = df3[selection]\n",
    "df3_selection.to_csv('molecule.smi', sep='\\t', index=False, header=False)"
   ]
  },
  {
   "cell_type": "markdown",
   "id": "542676f2",
   "metadata": {},
   "source": [
    "Above we have just removed the molecule name and structure in smiles formate"
   ]
  },
  {
   "cell_type": "code",
   "execution_count": null,
   "id": "b0a5f41c",
   "metadata": {},
   "outputs": [],
   "source": [
    "! cat molecule.smi | head -5"
   ]
  },
  {
   "cell_type": "code",
   "execution_count": null,
   "id": "502bc587",
   "metadata": {},
   "outputs": [],
   "source": [
    "! cat molecule.smi | wc -l"
   ]
  },
  {
   "cell_type": "markdown",
   "id": "dca67a2d",
   "metadata": {},
   "source": [
    "### **Calculation of fingerprint descriptors** "
   ]
  },
  {
   "cell_type": "markdown",
   "id": "107164a8",
   "metadata": {},
   "source": [
    "The padel program will remove all the salts if presents in the structures, and the calculations will be purley made on structural smiles."
   ]
  },
  {
   "cell_type": "code",
   "execution_count": null,
   "id": "34df63d2",
   "metadata": {},
   "outputs": [],
   "source": [
    "! cat padel.sh"
   ]
  },
  {
   "cell_type": "code",
   "execution_count": null,
   "id": "789c4e70",
   "metadata": {},
   "outputs": [],
   "source": [
    "! bash padel.sh"
   ]
  },
  {
   "cell_type": "code",
   "execution_count": null,
   "id": "257c3d52",
   "metadata": {},
   "outputs": [],
   "source": [
    "! ls -l"
   ]
  },
  {
   "cell_type": "markdown",
   "id": "a7fdc079",
   "metadata": {},
   "source": [
    "### **Preparing Data; the X and Y Data Matrices**"
   ]
  },
  {
   "cell_type": "markdown",
   "id": "49396603",
   "metadata": {},
   "source": [
    "#### **X data matrix**"
   ]
  },
  {
   "cell_type": "code",
   "execution_count": null,
   "id": "32c2c1fb",
   "metadata": {},
   "outputs": [],
   "source": [
    "df3_X = pd.read_csv('descriptors_output.csv')"
   ]
  },
  {
   "cell_type": "code",
   "execution_count": null,
   "id": "ff2d3590",
   "metadata": {},
   "outputs": [],
   "source": [
    "df3_X"
   ]
  },
  {
   "cell_type": "markdown",
   "id": "2f01f455",
   "metadata": {},
   "source": [
    "Next, we will remove the names column from the above file, as they will not be required further."
   ]
  },
  {
   "cell_type": "code",
   "execution_count": null,
   "id": "65fa1b07",
   "metadata": {},
   "outputs": [],
   "source": [
    "df3_X = df3_X.drop(columns=['Name'])"
   ]
  },
  {
   "cell_type": "code",
   "execution_count": null,
   "id": "8bc5e081",
   "metadata": {},
   "outputs": [],
   "source": [
    "df3_X"
   ]
  },
  {
   "cell_type": "markdown",
   "id": "167cbed2",
   "metadata": {},
   "source": [
    "#### **Y variable**\n",
    "Below we are incorporating pIC50 on the Y-axis"
   ]
  },
  {
   "cell_type": "code",
   "execution_count": null,
   "id": "ad1f8d9c",
   "metadata": {},
   "outputs": [],
   "source": [
    "df3_Y = df3['pIC50']\n",
    "df3_Y"
   ]
  },
  {
   "cell_type": "markdown",
   "id": "52475627",
   "metadata": {},
   "source": [
    "#### **Lets Combine X and Y variables**\n",
    "Our X and Y variables are ready, we need to combine them."
   ]
  },
  {
   "cell_type": "code",
   "execution_count": null,
   "id": "b2b56d8e",
   "metadata": {},
   "outputs": [],
   "source": [
    "dataset3 = pd.concat([df3_X,df3_Y], axis=1)"
   ]
  },
  {
   "cell_type": "code",
   "execution_count": null,
   "id": "6bd2920e",
   "metadata": {},
   "outputs": [],
   "source": [
    "dataset3"
   ]
  },
  {
   "cell_type": "markdown",
   "id": "26d0eef7",
   "metadata": {},
   "source": [
    "#### **Lets save data**"
   ]
  },
  {
   "cell_type": "code",
   "execution_count": null,
   "id": "fc397640",
   "metadata": {},
   "outputs": [],
   "source": [
    "dataset3.to_csv('P2Y1_06_bioactivity_data_3class_pIC50_pubchem_fp.csv', index=False)"
   ]
  },
  {
   "cell_type": "code",
   "execution_count": null,
   "id": "19f66799",
   "metadata": {},
   "outputs": [],
   "source": [
    "! zip P2Y1-part3-data.zip *.csv"
   ]
  }
 ],
 "metadata": {
  "kernelspec": {
   "display_name": "Python 3 (ipykernel)",
   "language": "python",
   "name": "python3"
  },
  "language_info": {
   "codemirror_mode": {
    "name": "ipython",
    "version": 3
   },
   "file_extension": ".py",
   "mimetype": "text/x-python",
   "name": "python",
   "nbconvert_exporter": "python",
   "pygments_lexer": "ipython3",
   "version": "3.10.9"
  }
 },
 "nbformat": 4,
 "nbformat_minor": 5
}
