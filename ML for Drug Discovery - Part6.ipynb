{
 "cells": [
  {
   "cell_type": "markdown",
   "id": "90542a87",
   "metadata": {},
   "source": [
    "# **Preparation of Pickel Model and Descriptor List**\n",
    "This notebook is almost a repetion of Part 3, with slight modification. The Pickle model will be used in the final step to drug the new drugs. During the preparation of this module, I took great help from the materials of Dr. Chanin Nantasenamat. This notebook is designed by **Dr. Ashfaq Ahmad**.\n",
    "\n",
    "*Important Note*: *This notebook is designed mainly for the biologist who are working in the field with limited programing expertiese*."
   ]
  },
  {
   "cell_type": "markdown",
   "id": "c4f58f42",
   "metadata": {},
   "source": [
    "### **Import your data file**\n",
    "This file was generated in part 3. "
   ]
  },
  {
   "cell_type": "code",
   "execution_count": null,
   "id": "793e3002",
   "metadata": {},
   "outputs": [],
   "source": [
    "import pandas as pd"
   ]
  },
  {
   "cell_type": "code",
   "execution_count": null,
   "id": "c79fe02f",
   "metadata": {},
   "outputs": [],
   "source": [
    "from google.colab import files\n",
    "uploaded = files.upload()"
   ]
  },
  {
   "cell_type": "code",
   "execution_count": null,
   "id": "21720d87",
   "metadata": {},
   "outputs": [],
   "source": [
    "df = pd.read_csv('P2Y1-06-bioactivity_data_3class_pIC50_pubchem_fp.csv')"
   ]
  },
  {
   "cell_type": "code",
   "execution_count": null,
   "id": "425e42fc",
   "metadata": {},
   "outputs": [],
   "source": [
    "df"
   ]
  },
  {
   "cell_type": "code",
   "execution_count": null,
   "id": "8fa1aff2",
   "metadata": {},
   "outputs": [],
   "source": [
    "X = df.drop(['pIC50'], axis=1)\n",
    "X"
   ]
  },
  {
   "cell_type": "code",
   "execution_count": null,
   "id": "edc8d3a7",
   "metadata": {},
   "outputs": [],
   "source": [
    "Y = df.iloc[:,-1]\n",
    "Y"
   ]
  },
  {
   "cell_type": "markdown",
   "id": "51ea82a2",
   "metadata": {},
   "source": [
    "### **Remove all the low variance features**"
   ]
  },
  {
   "cell_type": "code",
   "execution_count": null,
   "id": "4aa4479e",
   "metadata": {},
   "outputs": [],
   "source": [
    "from sklearn.feature_selection import VarianceThreshold\n",
    "\n",
    "def remove_low_variance(input_data, threshold=0.1):\n",
    "    selection = VarianceThreshold(threshold)\n",
    "    selection.fit(input_data)\n",
    "    return input_data[input_data.columns[selection.get_support(indices=True)]]\n",
    "\n",
    "X = remove_low_variance(X, threshold=0.1)\n",
    "X"
   ]
  },
  {
   "cell_type": "code",
   "execution_count": null,
   "id": "555ea500",
   "metadata": {},
   "outputs": [],
   "source": [
    "X.to_csv('P2Y1_descriptor_list.csv', index = False)"
   ]
  },
  {
   "cell_type": "markdown",
   "id": "9eeef1ab",
   "metadata": {},
   "source": [
    "### **Generate and Run a Random Forest Regression Model**"
   ]
  },
  {
   "cell_type": "code",
   "execution_count": null,
   "id": "013b8781",
   "metadata": {},
   "outputs": [],
   "source": [
    "from sklearn.ensemble import RandomForestRegressor\n",
    "from sklearn.metrics import mean_squared_error, r2_score"
   ]
  },
  {
   "cell_type": "code",
   "execution_count": null,
   "id": "24fa24d3",
   "metadata": {},
   "outputs": [],
   "source": [
    "model = RandomForestRegressor(n_estimators=500, random_state=42)\n",
    "model.fit(X, Y)\n",
    "r2 = model.score(X, Y)\n",
    "r2"
   ]
  },
  {
   "cell_type": "code",
   "execution_count": null,
   "id": "d87463a0",
   "metadata": {},
   "outputs": [],
   "source": [
    "Y_pred = model.predict(X)\n",
    "Y_pred"
   ]
  },
  {
   "cell_type": "code",
   "execution_count": null,
   "id": "599d6723",
   "metadata": {},
   "outputs": [],
   "source": [
    "print('Mean squared error (MSE): %.2f'\n",
    "      % mean_squared_error(Y, Y_pred))\n",
    "print('Coefficient of determination (R^2): %.2f'\n",
    "      % r2_score(Y, Y_pred))"
   ]
  },
  {
   "cell_type": "markdown",
   "id": "fa6f02e1",
   "metadata": {},
   "source": [
    "### **Data Visualization (Experimental vs Predicted pIC50) for Training Data**"
   ]
  },
  {
   "cell_type": "code",
   "execution_count": null,
   "id": "56ca1c81",
   "metadata": {},
   "outputs": [],
   "source": [
    "import matplotlib.pyplot as plt\n",
    "import numpy as np"
   ]
  },
  {
   "cell_type": "code",
   "execution_count": null,
   "id": "5add89b1",
   "metadata": {},
   "outputs": [],
   "source": [
    "plt.figure(figsize=(5,5))\n",
    "plt.scatter(x=Y, y=Y_pred, c=\"#7CAE00\", alpha=0.3)\n",
    "\n",
    "# Add trendline\n",
    "# https://stackoverflow.com/questions/26447191/how-to-add-trendline-in-python-matplotlib-dot-scatter-graphs\n",
    "z = np.polyfit(Y, Y_pred, 1)\n",
    "p = np.poly1d(z)\n",
    "\n",
    "plt.plot(Y,p(Y),\"#F8766D\")\n",
    "plt.ylabel('Predicted pIC50')\n",
    "plt.xlabel('Experimental pIC50')\n",
    "plt.savefig('pplot.png')"
   ]
  },
  {
   "cell_type": "markdown",
   "id": "f802348c",
   "metadata": {},
   "source": [
    "### **Save Results as Pickle Model**"
   ]
  },
  {
   "cell_type": "code",
   "execution_count": null,
   "id": "33a66042",
   "metadata": {},
   "outputs": [],
   "source": [
    "import pickle"
   ]
  },
  {
   "cell_type": "code",
   "execution_count": null,
   "id": "de46467f",
   "metadata": {},
   "outputs": [],
   "source": [
    "pickle.dump(model, open('P2Y1_model.pkl', 'wb'))"
   ]
  },
  {
   "cell_type": "code",
   "execution_count": null,
   "id": "b9d5c0fa",
   "metadata": {},
   "outputs": [],
   "source": [
    "! zip -r Drug_Designing_Part6.zip . -i *.csv *.png"
   ]
  }
 ],
 "metadata": {
  "kernelspec": {
   "display_name": "Python 3 (ipykernel)",
   "language": "python",
   "name": "python3"
  },
  "language_info": {
   "codemirror_mode": {
    "name": "ipython",
    "version": 3
   },
   "file_extension": ".py",
   "mimetype": "text/x-python",
   "name": "python",
   "nbconvert_exporter": "python",
   "pygments_lexer": "ipython3",
   "version": "3.10.9"
  }
 },
 "nbformat": 4,
 "nbformat_minor": 5
}
