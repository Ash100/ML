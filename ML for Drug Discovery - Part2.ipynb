{
  "cells": [
    {
      "cell_type": "markdown",
      "id": "24622c3b",
      "metadata": {
        "id": "24622c3b"
      },
      "source": [
        "# **Exploratory Data Analysis**\n",
        "In part 1, we mainly stayed focused to generate a dataset with certain key features or standard_type (IC50). In this section we will use the generated data and to generate or to fix molecular descriptors present in the chemical structures. After successful generation, we will perform some analysis, to what we call Exploratory Data Analysis. I highly acknowledge and refer materials of Dr. Chanin Nantasenamat an Associate professor in Bioinformatics.\n",
        "So Let's Move.\n",
        "This Notebook is created by **Dr. Ashfaq Ahmad**"
      ]
    },
    {
      "cell_type": "markdown",
      "id": "4471a1f4",
      "metadata": {
        "id": "4471a1f4"
      },
      "source": [
        "### **Install Conda and rdkit**"
      ]
    },
    {
      "cell_type": "code",
      "execution_count": null,
      "id": "1410197b",
      "metadata": {
        "id": "1410197b"
      },
      "outputs": [],
      "source": [
        "! wget https://repo.anaconda.com/miniconda/Miniconda3-py37_4.8.2-Linux-x86_64.sh\n",
        "! chmod +x Miniconda3-py37_4.8.2-Linux-x86_64.sh\n",
        "! bash ./Miniconda3-py37_4.8.2-Linux-x86_64.sh -b -f -p /usr/local\n",
        "! conda install -c rdkit rdkit -y\n",
        "import sys\n",
        "sys.path.append('/usr/local/lib/python3.7/site-packages/')"
      ]
    },
    {
      "cell_type": "code",
      "execution_count": 2,
      "id": "a6d4ae1b",
      "metadata": {
        "id": "a6d4ae1b"
      },
      "outputs": [],
      "source": [
        "import pandas as pd"
      ]
    },
    {
      "cell_type": "markdown",
      "id": "c85c0d7b",
      "metadata": {
        "id": "c85c0d7b"
      },
      "source": [
        "### **Step 1 - Loading (Bioactivity Data) Generated in Part-1**\n",
        "\n",
        "To upload your file, run the following cell. You will be promted to upload your datafile, already prepared and saved in CSV formate."
      ]
    },
    {
      "cell_type": "code",
      "execution_count": 3,
      "id": "b909b81f",
      "metadata": {
        "id": "b909b81f",
        "outputId": "12619150-d7ac-4fdf-995e-ec6a31d115fc",
        "colab": {
          "base_uri": "https://localhost:8080/",
          "height": 73
        }
      },
      "outputs": [
        {
          "output_type": "display_data",
          "data": {
            "text/plain": [
              "<IPython.core.display.HTML object>"
            ],
            "text/html": [
              "\n",
              "     <input type=\"file\" id=\"files-de23eab8-df31-4edd-a5b4-11c16800aa5a\" name=\"files[]\" multiple disabled\n",
              "        style=\"border:none\" />\n",
              "     <output id=\"result-de23eab8-df31-4edd-a5b4-11c16800aa5a\">\n",
              "      Upload widget is only available when the cell has been executed in the\n",
              "      current browser session. Please rerun this cell to enable.\n",
              "      </output>\n",
              "      <script>// Copyright 2017 Google LLC\n",
              "//\n",
              "// Licensed under the Apache License, Version 2.0 (the \"License\");\n",
              "// you may not use this file except in compliance with the License.\n",
              "// You may obtain a copy of the License at\n",
              "//\n",
              "//      http://www.apache.org/licenses/LICENSE-2.0\n",
              "//\n",
              "// Unless required by applicable law or agreed to in writing, software\n",
              "// distributed under the License is distributed on an \"AS IS\" BASIS,\n",
              "// WITHOUT WARRANTIES OR CONDITIONS OF ANY KIND, either express or implied.\n",
              "// See the License for the specific language governing permissions and\n",
              "// limitations under the License.\n",
              "\n",
              "/**\n",
              " * @fileoverview Helpers for google.colab Python module.\n",
              " */\n",
              "(function(scope) {\n",
              "function span(text, styleAttributes = {}) {\n",
              "  const element = document.createElement('span');\n",
              "  element.textContent = text;\n",
              "  for (const key of Object.keys(styleAttributes)) {\n",
              "    element.style[key] = styleAttributes[key];\n",
              "  }\n",
              "  return element;\n",
              "}\n",
              "\n",
              "// Max number of bytes which will be uploaded at a time.\n",
              "const MAX_PAYLOAD_SIZE = 100 * 1024;\n",
              "\n",
              "function _uploadFiles(inputId, outputId) {\n",
              "  const steps = uploadFilesStep(inputId, outputId);\n",
              "  const outputElement = document.getElementById(outputId);\n",
              "  // Cache steps on the outputElement to make it available for the next call\n",
              "  // to uploadFilesContinue from Python.\n",
              "  outputElement.steps = steps;\n",
              "\n",
              "  return _uploadFilesContinue(outputId);\n",
              "}\n",
              "\n",
              "// This is roughly an async generator (not supported in the browser yet),\n",
              "// where there are multiple asynchronous steps and the Python side is going\n",
              "// to poll for completion of each step.\n",
              "// This uses a Promise to block the python side on completion of each step,\n",
              "// then passes the result of the previous step as the input to the next step.\n",
              "function _uploadFilesContinue(outputId) {\n",
              "  const outputElement = document.getElementById(outputId);\n",
              "  const steps = outputElement.steps;\n",
              "\n",
              "  const next = steps.next(outputElement.lastPromiseValue);\n",
              "  return Promise.resolve(next.value.promise).then((value) => {\n",
              "    // Cache the last promise value to make it available to the next\n",
              "    // step of the generator.\n",
              "    outputElement.lastPromiseValue = value;\n",
              "    return next.value.response;\n",
              "  });\n",
              "}\n",
              "\n",
              "/**\n",
              " * Generator function which is called between each async step of the upload\n",
              " * process.\n",
              " * @param {string} inputId Element ID of the input file picker element.\n",
              " * @param {string} outputId Element ID of the output display.\n",
              " * @return {!Iterable<!Object>} Iterable of next steps.\n",
              " */\n",
              "function* uploadFilesStep(inputId, outputId) {\n",
              "  const inputElement = document.getElementById(inputId);\n",
              "  inputElement.disabled = false;\n",
              "\n",
              "  const outputElement = document.getElementById(outputId);\n",
              "  outputElement.innerHTML = '';\n",
              "\n",
              "  const pickedPromise = new Promise((resolve) => {\n",
              "    inputElement.addEventListener('change', (e) => {\n",
              "      resolve(e.target.files);\n",
              "    });\n",
              "  });\n",
              "\n",
              "  const cancel = document.createElement('button');\n",
              "  inputElement.parentElement.appendChild(cancel);\n",
              "  cancel.textContent = 'Cancel upload';\n",
              "  const cancelPromise = new Promise((resolve) => {\n",
              "    cancel.onclick = () => {\n",
              "      resolve(null);\n",
              "    };\n",
              "  });\n",
              "\n",
              "  // Wait for the user to pick the files.\n",
              "  const files = yield {\n",
              "    promise: Promise.race([pickedPromise, cancelPromise]),\n",
              "    response: {\n",
              "      action: 'starting',\n",
              "    }\n",
              "  };\n",
              "\n",
              "  cancel.remove();\n",
              "\n",
              "  // Disable the input element since further picks are not allowed.\n",
              "  inputElement.disabled = true;\n",
              "\n",
              "  if (!files) {\n",
              "    return {\n",
              "      response: {\n",
              "        action: 'complete',\n",
              "      }\n",
              "    };\n",
              "  }\n",
              "\n",
              "  for (const file of files) {\n",
              "    const li = document.createElement('li');\n",
              "    li.append(span(file.name, {fontWeight: 'bold'}));\n",
              "    li.append(span(\n",
              "        `(${file.type || 'n/a'}) - ${file.size} bytes, ` +\n",
              "        `last modified: ${\n",
              "            file.lastModifiedDate ? file.lastModifiedDate.toLocaleDateString() :\n",
              "                                    'n/a'} - `));\n",
              "    const percent = span('0% done');\n",
              "    li.appendChild(percent);\n",
              "\n",
              "    outputElement.appendChild(li);\n",
              "\n",
              "    const fileDataPromise = new Promise((resolve) => {\n",
              "      const reader = new FileReader();\n",
              "      reader.onload = (e) => {\n",
              "        resolve(e.target.result);\n",
              "      };\n",
              "      reader.readAsArrayBuffer(file);\n",
              "    });\n",
              "    // Wait for the data to be ready.\n",
              "    let fileData = yield {\n",
              "      promise: fileDataPromise,\n",
              "      response: {\n",
              "        action: 'continue',\n",
              "      }\n",
              "    };\n",
              "\n",
              "    // Use a chunked sending to avoid message size limits. See b/62115660.\n",
              "    let position = 0;\n",
              "    do {\n",
              "      const length = Math.min(fileData.byteLength - position, MAX_PAYLOAD_SIZE);\n",
              "      const chunk = new Uint8Array(fileData, position, length);\n",
              "      position += length;\n",
              "\n",
              "      const base64 = btoa(String.fromCharCode.apply(null, chunk));\n",
              "      yield {\n",
              "        response: {\n",
              "          action: 'append',\n",
              "          file: file.name,\n",
              "          data: base64,\n",
              "        },\n",
              "      };\n",
              "\n",
              "      let percentDone = fileData.byteLength === 0 ?\n",
              "          100 :\n",
              "          Math.round((position / fileData.byteLength) * 100);\n",
              "      percent.textContent = `${percentDone}% done`;\n",
              "\n",
              "    } while (position < fileData.byteLength);\n",
              "  }\n",
              "\n",
              "  // All done.\n",
              "  yield {\n",
              "    response: {\n",
              "      action: 'complete',\n",
              "    }\n",
              "  };\n",
              "}\n",
              "\n",
              "scope.google = scope.google || {};\n",
              "scope.google.colab = scope.google.colab || {};\n",
              "scope.google.colab._files = {\n",
              "  _uploadFiles,\n",
              "  _uploadFilesContinue,\n",
              "};\n",
              "})(self);\n",
              "</script> "
            ]
          },
          "metadata": {}
        },
        {
          "output_type": "stream",
          "name": "stdout",
          "text": [
            "Saving P2Y1_03_bioactivity_data_curated.csv to P2Y1_03_bioactivity_data_curated.csv\n"
          ]
        }
      ],
      "source": [
        "from google.colab import files\n",
        "uploaded = files.upload()"
      ]
    },
    {
      "cell_type": "code",
      "execution_count": 40,
      "id": "9fcd3160",
      "metadata": {
        "id": "9fcd3160"
      },
      "outputs": [],
      "source": [
        "df = pd.read_csv('P2Y1_03_bioactivity_data_curated.csv')"
      ]
    },
    {
      "cell_type": "code",
      "execution_count": null,
      "id": "1febc9e1",
      "metadata": {
        "id": "1febc9e1"
      },
      "outputs": [],
      "source": [
        "df"
      ]
    },
    {
      "cell_type": "code",
      "execution_count": 6,
      "id": "6555ac1c",
      "metadata": {
        "id": "6555ac1c"
      },
      "outputs": [],
      "source": [
        "df_no_smiles = df.drop(columns='canonical_smiles')"
      ]
    },
    {
      "cell_type": "code",
      "execution_count": 42,
      "id": "58c073c1",
      "metadata": {
        "id": "58c073c1"
      },
      "outputs": [],
      "source": [
        "smiles = []\n",
        "\n",
        "for i in df.canonical_smiles.tolist():\n",
        "  cpd = str(i).split('.')\n",
        "  cpd_longest = max(cpd, key = len)\n",
        "  smiles.append(cpd_longest)\n",
        "\n",
        "smiles = pd.Series(smiles, name = 'canonical_smiles')"
      ]
    },
    {
      "cell_type": "code",
      "execution_count": null,
      "id": "7432c20e",
      "metadata": {
        "id": "7432c20e"
      },
      "outputs": [],
      "source": [
        "df_clean_smiles = pd.concat([df_no_smiles,smiles], axis=1)\n",
        "df_clean_smiles"
      ]
    },
    {
      "cell_type": "markdown",
      "id": "27dc5f5d",
      "metadata": {
        "id": "27dc5f5d"
      },
      "source": [
        "### **Step 2 - Calculations of Lipinski Descriptors**\n",
        "What are Lipinski rules or Descriptors?\n",
        "\n",
        "A Pfizer scientist, Christopher Lipinski, designed a bunch of rules in evaluating a chemical compound for **druglikeness**. Lipinski analyzed these rules after studying vaste number of FDA-approved drugs in the formulation. In Simple terms, druglikeness is primarily based on the drug Absorption, Distribution, Metabolism and Excretion (ADME) that is also known as the pharmacokinetic profile. Lipinski rules are normally known as  **Rule-of-Five** or **Lipinski's Rule**.\n",
        "\n",
        "The Lipinski's Rule states,\n",
        "* Molecular weight < 500 Dalton\n",
        "* Octanol-water partition coefficient (LogP) < 5\n",
        "* Hydrogen bond donors < 5\n",
        "* Hydrogen bond acceptors < 10"
      ]
    },
    {
      "cell_type": "markdown",
      "id": "cd8e5e4a",
      "metadata": {
        "id": "cd8e5e4a"
      },
      "source": [
        "### **Import essential libraries to the workspace**"
      ]
    },
    {
      "cell_type": "code",
      "source": [
        "!pip install rdkit"
      ],
      "metadata": {
        "id": "yiifs3vDFI7l"
      },
      "id": "yiifs3vDFI7l",
      "execution_count": null,
      "outputs": []
    },
    {
      "cell_type": "code",
      "execution_count": 45,
      "id": "06e18cb0",
      "metadata": {
        "id": "06e18cb0"
      },
      "outputs": [],
      "source": [
        "import numpy as np\n",
        "from rdkit import Chem\n",
        "from rdkit.Chem import Descriptors, Lipinski"
      ]
    },
    {
      "cell_type": "markdown",
      "id": "e1848c24",
      "metadata": {
        "id": "e1848c24"
      },
      "source": [
        "**Now we are in a position to calculate Lipinski descriptors**"
      ]
    },
    {
      "cell_type": "markdown",
      "id": "e3095d7a",
      "metadata": {
        "id": "e3095d7a"
      },
      "source": [
        "### **Step 3 - Calculation of Lipinski Descriptors**"
      ]
    },
    {
      "cell_type": "code",
      "execution_count": 46,
      "id": "810b2521",
      "metadata": {
        "id": "810b2521"
      },
      "outputs": [],
      "source": [
        "# Inspired by: https://codeocean.com/explore/capsules?query=tag:data-curation\n",
        "\n",
        "def lipinski(smiles, verbose=False):\n",
        "\n",
        "    moldata= []\n",
        "    for elem in smiles:\n",
        "        mol=Chem.MolFromSmiles(elem)\n",
        "        moldata.append(mol)\n",
        "\n",
        "    baseData= np.arange(1,1)\n",
        "    i=0\n",
        "    for mol in moldata:\n",
        "\n",
        "        desc_MolWt = Descriptors.MolWt(mol)\n",
        "        desc_MolLogP = Descriptors.MolLogP(mol)\n",
        "        desc_NumHDonors = Lipinski.NumHDonors(mol)\n",
        "        desc_NumHAcceptors = Lipinski.NumHAcceptors(mol)\n",
        "\n",
        "        row = np.array([desc_MolWt,\n",
        "                        desc_MolLogP,\n",
        "                        desc_NumHDonors,\n",
        "                        desc_NumHAcceptors])\n",
        "\n",
        "        if(i==0):\n",
        "            baseData=row\n",
        "        else:\n",
        "            baseData=np.vstack([baseData, row])\n",
        "        i=i+1\n",
        "\n",
        "    columnNames=[\"MW\",\"LogP\",\"NumHDonors\",\"NumHAcceptors\"]\n",
        "    descriptors = pd.DataFrame(data=baseData,columns=columnNames)\n",
        "\n",
        "    return descriptors"
      ]
    },
    {
      "cell_type": "code",
      "execution_count": 47,
      "id": "3a66cb89",
      "metadata": {
        "id": "3a66cb89"
      },
      "outputs": [],
      "source": [
        "df_lipinski = lipinski(df_clean_smiles.canonical_smiles)"
      ]
    },
    {
      "cell_type": "code",
      "execution_count": null,
      "id": "4cbd2cd6",
      "metadata": {
        "id": "4cbd2cd6"
      },
      "outputs": [],
      "source": [
        "df_lipinski"
      ]
    },
    {
      "cell_type": "markdown",
      "id": "f8bd01b0",
      "metadata": {
        "id": "f8bd01b0"
      },
      "source": [
        "So far we have two dataframes, the df_lipinski and the df. We need to combine both these two frames into a single frame. If you want to see, these two frames, run the two cells below."
      ]
    },
    {
      "cell_type": "code",
      "execution_count": null,
      "id": "c99cad32",
      "metadata": {
        "id": "c99cad32"
      },
      "outputs": [],
      "source": [
        "df_lipinski"
      ]
    },
    {
      "cell_type": "code",
      "execution_count": null,
      "id": "8fdff769",
      "metadata": {
        "id": "8fdff769"
      },
      "outputs": [],
      "source": [
        "df"
      ]
    },
    {
      "cell_type": "markdown",
      "id": "59e9bce4",
      "metadata": {
        "id": "59e9bce4"
      },
      "source": [
        "Lets Combine"
      ]
    },
    {
      "cell_type": "code",
      "execution_count": 49,
      "id": "b3282f38",
      "metadata": {
        "id": "b3282f38"
      },
      "outputs": [],
      "source": [
        "df_combined = pd.concat([df,df_lipinski], axis=1)"
      ]
    },
    {
      "cell_type": "code",
      "execution_count": null,
      "id": "83a9405f",
      "metadata": {
        "id": "83a9405f"
      },
      "outputs": [],
      "source": [
        "df_combined"
      ]
    },
    {
      "cell_type": "markdown",
      "id": "238ee9b3",
      "metadata": {
        "id": "238ee9b3"
      },
      "source": [
        "### **Step 4 - Convert IC50 to pIC50**\n",
        "The **IC50** values are normally too much diverse therefore we need to the data to be more uniformly distributed, and for the reason we will convert **IC50** to the negative logarithmic scale which is essentially **-log10(IC50)** or **pIC50**\n",
        "\n",
        "Next we will use the custom function pIC50() which will accept a DataFrame as input and will output,\n",
        "* Take the IC50 values from the ``standard_value`` column and converts it from nM (nanoMolar) to M (molar) concentration by multiplying the value by 10$^{-9}$\n",
        "* Take the molar value and apply -log10\n",
        "* Delete the ``standard_value`` column and create a new ``pIC50`` column.\n",
        "\n",
        "Point to note: These calculations will also normalize the data and values greater than 100,000,000 will be fixed at 100,000,000 otherwise the negative logarithmic value will become negative."
      ]
    },
    {
      "cell_type": "code",
      "execution_count": 51,
      "id": "4bc39b24",
      "metadata": {
        "id": "4bc39b24"
      },
      "outputs": [],
      "source": [
        "import numpy as np\n",
        "\n",
        "def pIC50(input):\n",
        "    pIC50 = []\n",
        "\n",
        "    for i in input['standard_value_norm']:\n",
        "        molar = i*(10**-9) # Converts nM to M\n",
        "        pIC50.append(-np.log10(molar))\n",
        "\n",
        "    input['pIC50'] = pIC50\n",
        "    x = input.drop('standard_value_norm', 1)\n",
        "\n",
        "    return x"
      ]
    },
    {
      "cell_type": "code",
      "execution_count": null,
      "id": "d27ab87d",
      "metadata": {
        "id": "d27ab87d"
      },
      "outputs": [],
      "source": [
        "df_combined.standard_value.describe()"
      ]
    },
    {
      "cell_type": "code",
      "execution_count": null,
      "id": "1758b929",
      "metadata": {
        "id": "1758b929"
      },
      "outputs": [],
      "source": [
        "-np.log10( (10**-9)* 100000000 )"
      ]
    },
    {
      "cell_type": "code",
      "execution_count": null,
      "id": "1ac5d7e1",
      "metadata": {
        "id": "1ac5d7e1"
      },
      "outputs": [],
      "source": [
        "-np.log10( (10**-9)* 10000000000 )"
      ]
    },
    {
      "cell_type": "code",
      "execution_count": 23,
      "id": "0bc3730b",
      "metadata": {
        "id": "0bc3730b"
      },
      "outputs": [],
      "source": [
        "def norm_value(input):\n",
        "    norm = []\n",
        "\n",
        "    for i in input['standard_value']:\n",
        "        if i > 100000000:\n",
        "          i = 100000000\n",
        "        norm.append(i)\n",
        "\n",
        "    input['standard_value_norm'] = norm\n",
        "    x = input.drop('standard_value', 1)\n",
        "\n",
        "    return x"
      ]
    },
    {
      "cell_type": "code",
      "source": [
        "import pandas as pd\n",
        "\n",
        "# Normalization function\n",
        "def norm_value(input_df):\n",
        "    # Normalize the 'standard_value' column\n",
        "    norm = (input_df['standard_value'] - input_df['standard_value'].min()) / (input_df['standard_value'].max() - input_df['standard_value'].min())\n",
        "    input_df['standard_value_norm'] = norm\n",
        "    x = input_df.drop('standard_value', axis=1)\n",
        "    return x\n",
        "\n",
        "# Assuming df_combined is already loaded\n",
        "df_norm = norm_value(df_combined)\n",
        "print(df_norm)"
      ],
      "metadata": {
        "id": "SHt0z4MlF0ZW"
      },
      "id": "SHt0z4MlF0ZW",
      "execution_count": null,
      "outputs": []
    },
    {
      "cell_type": "code",
      "execution_count": null,
      "id": "9dc1e5cd",
      "metadata": {
        "id": "9dc1e5cd"
      },
      "outputs": [],
      "source": [
        "df_norm"
      ]
    },
    {
      "cell_type": "code",
      "execution_count": null,
      "id": "d220be41",
      "metadata": {
        "id": "d220be41"
      },
      "outputs": [],
      "source": [
        "df_norm.standard_value_norm.describe()"
      ]
    },
    {
      "cell_type": "code",
      "source": [
        "import pandas as pd\n",
        "\n",
        "# Function to calculate pIC50 values\n",
        "def pIC50(input_df):\n",
        "    # Assuming we are calculating pIC50 using the normalized values\n",
        "    input_df['pIC50'] = -np.log10(input_df['standard_value_norm'] * 1e-9)  # Example transformation\n",
        "    return input_df\n",
        "\n",
        "# Assuming df_norm is already created\n",
        "df_final = pIC50(df_norm)\n",
        "print(df_final)"
      ],
      "metadata": {
        "id": "gvv6UySKHjgd"
      },
      "id": "gvv6UySKHjgd",
      "execution_count": null,
      "outputs": []
    },
    {
      "cell_type": "code",
      "execution_count": null,
      "id": "9ab8fc3a",
      "metadata": {
        "id": "9ab8fc3a"
      },
      "outputs": [],
      "source": [
        "df_final"
      ]
    },
    {
      "cell_type": "code",
      "execution_count": null,
      "id": "2ac381bb",
      "metadata": {
        "id": "2ac381bb"
      },
      "outputs": [],
      "source": [
        "df_final.pIC50.describe()"
      ]
    },
    {
      "cell_type": "markdown",
      "id": "0c4b8204",
      "metadata": {
        "id": "0c4b8204"
      },
      "source": [
        "Now, we are in a position to save our data into CSV file"
      ]
    },
    {
      "cell_type": "code",
      "execution_count": 35,
      "id": "89b3947f",
      "metadata": {
        "id": "89b3947f"
      },
      "outputs": [],
      "source": [
        "df_final.to_csv('P2Y1_04_bioactivity_data_3class_pIC50.csv')"
      ]
    },
    {
      "cell_type": "markdown",
      "id": "79261e74",
      "metadata": {
        "id": "79261e74"
      },
      "source": [
        "### **Step 5 - Removal of the intermediate class from the whole data**\n",
        "Here we are going to drop the compounds with intermediate bioactivity. We will drop them because we want to compare the active and inactive class."
      ]
    },
    {
      "cell_type": "code",
      "execution_count": null,
      "id": "dcd48e5b",
      "metadata": {
        "id": "dcd48e5b"
      },
      "outputs": [],
      "source": [
        "df_2class = df_final[df_final['class'] != 'intermediate']\n",
        "df_2class"
      ]
    },
    {
      "cell_type": "markdown",
      "id": "bc84430a",
      "metadata": {
        "id": "bc84430a"
      },
      "source": [
        "Write results to the CSV file"
      ]
    },
    {
      "cell_type": "code",
      "execution_count": 37,
      "id": "fb61e2ac",
      "metadata": {
        "id": "fb61e2ac"
      },
      "outputs": [],
      "source": [
        "df_2class.to_csv('P2Y1_05_bioactivity_data_2class_pIC50.csv')"
      ]
    },
    {
      "cell_type": "markdown",
      "id": "f0d7ccbf",
      "metadata": {
        "id": "f0d7ccbf"
      },
      "source": [
        "## **Exploratory Data Analysis OR Chemical Space Analysis through Lipinski descriptors**"
      ]
    },
    {
      "cell_type": "markdown",
      "id": "2e79b602",
      "metadata": {
        "id": "2e79b602"
      },
      "source": [
        "### **Step 6 - Import Essential Libraries**"
      ]
    },
    {
      "cell_type": "code",
      "execution_count": 38,
      "id": "e8fd8d13",
      "metadata": {
        "id": "e8fd8d13"
      },
      "outputs": [],
      "source": [
        "import seaborn as sns\n",
        "sns.set(style='ticks')\n",
        "import matplotlib.pyplot as plt"
      ]
    },
    {
      "cell_type": "markdown",
      "id": "25f797ee",
      "metadata": {
        "id": "25f797ee"
      },
      "source": [
        "### **Analysis of Frequency plot of the two bioactivity classes**"
      ]
    },
    {
      "cell_type": "code",
      "execution_count": 39,
      "id": "82807f8d",
      "metadata": {
        "id": "82807f8d",
        "outputId": "ca539e71-e5c2-4411-95a5-56e5e7e86003",
        "colab": {
          "base_uri": "https://localhost:8080/",
          "height": 530
        }
      },
      "outputs": [
        {
          "output_type": "execute_result",
          "data": {
            "text/plain": [
              "Text(0, 0.5, 'Frequency')"
            ]
          },
          "metadata": {},
          "execution_count": 39
        },
        {
          "output_type": "display_data",
          "data": {
            "text/plain": [
              "<Figure size 550x550 with 1 Axes>"
            ],
            "image/png": "[encoded data removed]"
          },
          "metadata": {}
        }
      ],
      "source": [
        "plt.figure(figsize=(5.5, 5.5))\n",
        "\n",
        "sns.countplot(x='class', data=df_2class, edgecolor='black')\n",
        "\n",
        "plt.xlabel('Bioactivity class', fontsize=14, fontweight='bold')\n",
        "plt.ylabel('Frequency', fontsize=14, fontweight='bold')"
      ]
    },
    {
      "cell_type": "code",
      "execution_count": null,
      "id": "311b2089",
      "metadata": {
        "id": "311b2089"
      },
      "outputs": [],
      "source": [
        "plt.savefig('plot_bioactivity_class.pdf')"
      ]
    },
    {
      "cell_type": "markdown",
      "id": "c8b4a8a8",
      "metadata": {
        "id": "c8b4a8a8"
      },
      "source": [
        "### **Scatter plot of Molecular Weight (MW) versus LogP (Solubility)**\n",
        "\n",
        "It can be seen that the 2 bioactivity classes are not taking or spanning a kind of similar chemical spaces as evident by the scatter plot of MW vs LogP.\n",
        "In below function, **x** and **y** are for the legends on these axis. **data** means, data to be plotted. **hue** represents the coloring scheme, and here we are interested to be based on the bioactivity class. **size** are for the sphere size and will be proportional to the pIC50 value. sphere **edges** will be black and transperancy threshould or *alpha* of the picture is 0.7. You can adjusted if required."
      ]
    },
    {
      "cell_type": "code",
      "execution_count": null,
      "id": "51c91941",
      "metadata": {
        "id": "51c91941"
      },
      "outputs": [],
      "source": [
        "plt.figure(figsize=(5.5, 5.5))\n",
        "\n",
        "sns.scatterplot(x='MW', y='LogP', data=df_2class, hue='class', size='pIC50', edgecolor='black', alpha=0.7)\n",
        "\n",
        "plt.xlabel('MW', fontsize=14, fontweight='bold')\n",
        "plt.ylabel('LogP', fontsize=14, fontweight='bold')\n",
        "plt.legend(bbox_to_anchor=(1.05, 1), loc=2, borderaxespad=0)\n",
        "plt.savefig('plot_MW_vs_LogP.pdf')"
      ]
    },
    {
      "cell_type": "markdown",
      "id": "665facb5",
      "metadata": {
        "id": "665facb5"
      },
      "source": [
        "### **Box plots**\n",
        "Lets do some calculations with Box plot"
      ]
    },
    {
      "cell_type": "markdown",
      "id": "1c6f1789",
      "metadata": {
        "id": "1c6f1789"
      },
      "source": [
        "#### **pIC50 value**"
      ]
    },
    {
      "cell_type": "code",
      "execution_count": null,
      "id": "1bdd28a5",
      "metadata": {
        "id": "1bdd28a5"
      },
      "outputs": [],
      "source": [
        "plt.figure(figsize=(5.5, 5.5))\n",
        "\n",
        "sns.boxplot(x = 'class', y = 'pIC50', data = df_2class)\n",
        "\n",
        "plt.xlabel('Bioactivity class', fontsize=14, fontweight='bold')\n",
        "plt.ylabel('pIC50 value', fontsize=14, fontweight='bold')\n",
        "\n",
        "plt.savefig('plot_IC50.pdf')"
      ]
    },
    {
      "cell_type": "markdown",
      "id": "3daec45d",
      "metadata": {
        "id": "3daec45d"
      },
      "source": [
        "### **Statistical analysis | Mann-Whitney U Test**"
      ]
    },
    {
      "cell_type": "code",
      "execution_count": null,
      "id": "eadee1d3",
      "metadata": {
        "id": "eadee1d3"
      },
      "outputs": [],
      "source": [
        "def mannwhitney(descriptor, verbose=False):\n",
        "  # https://machinelearningmastery.com/nonparametric-statistical-significance-tests-in-python/\n",
        "  from numpy.random import seed\n",
        "  from numpy.random import randn\n",
        "  from scipy.stats import mannwhitneyu\n",
        "\n",
        "# seed the random number generator\n",
        "  seed(1)\n",
        "\n",
        "# actives and inactives\n",
        "  selection = [descriptor, 'class']\n",
        "  df = df_2class[selection]\n",
        "  active = df[df['class'] == 'active']\n",
        "  active = active[descriptor]\n",
        "\n",
        "  selection = [descriptor, 'class']\n",
        "  df = df_2class[selection]\n",
        "  inactive = df[df['class'] == 'inactive']\n",
        "  inactive = inactive[descriptor]\n",
        "\n",
        "# compare samples\n",
        "  stat, p = mannwhitneyu(active, inactive)\n",
        "  #print('Statistics=%.3f, p=%.3f' % (stat, p))\n",
        "\n",
        "# interpret\n",
        "  alpha = 0.05\n",
        "  if p > alpha:\n",
        "    interpretation = 'Same distribution (fail to reject H0)'\n",
        "  else:\n",
        "    interpretation = 'Different distribution (reject H0)'\n",
        "\n",
        "  results = pd.DataFrame({'Descriptor':descriptor,\n",
        "                          'Statistics':stat,\n",
        "                          'p':p,\n",
        "                          'alpha':alpha,\n",
        "                          'Interpretation':interpretation}, index=[0])\n",
        "  filename = 'mannwhitneyu_' + descriptor + '.csv'\n",
        "  results.to_csv(filename)\n",
        "\n",
        "  return results"
      ]
    },
    {
      "cell_type": "code",
      "execution_count": null,
      "id": "3530055a",
      "metadata": {
        "id": "3530055a"
      },
      "outputs": [],
      "source": [
        "mannwhitney('pIC50')"
      ]
    },
    {
      "cell_type": "markdown",
      "id": "402c7ceb",
      "metadata": {
        "id": "402c7ceb"
      },
      "source": [
        "#### **Molecular Weight (MW)**"
      ]
    },
    {
      "cell_type": "code",
      "execution_count": null,
      "id": "abbdaa0b",
      "metadata": {
        "id": "abbdaa0b"
      },
      "outputs": [],
      "source": [
        "plt.figure(figsize=(5.5, 5.5))\n",
        "\n",
        "sns.boxplot(x = 'class', y = 'MW', data = df_2class)\n",
        "\n",
        "plt.xlabel('Bioactivity class', fontsize=14, fontweight='bold')\n",
        "plt.ylabel('MW', fontsize=14, fontweight='bold')\n",
        "\n",
        "plt.savefig('plot_MW.pdf')"
      ]
    },
    {
      "cell_type": "code",
      "execution_count": null,
      "id": "cea4b429",
      "metadata": {
        "id": "cea4b429"
      },
      "outputs": [],
      "source": [
        "mannwhitney('MW')"
      ]
    },
    {
      "cell_type": "markdown",
      "id": "0329bcd5",
      "metadata": {
        "id": "0329bcd5"
      },
      "source": [
        "#### **LogP or Solubility**"
      ]
    },
    {
      "cell_type": "code",
      "execution_count": null,
      "id": "d2088ef2",
      "metadata": {
        "id": "d2088ef2"
      },
      "outputs": [],
      "source": [
        "plt.figure(figsize=(5.5, 5.5))\n",
        "\n",
        "sns.boxplot(x = 'class', y = 'LogP', data = df_2class)\n",
        "\n",
        "plt.xlabel('Bioactivity class', fontsize=14, fontweight='bold')\n",
        "plt.ylabel('LogP', fontsize=14, fontweight='bold')\n",
        "\n",
        "plt.savefig('plot_LogP.pdf')"
      ]
    },
    {
      "cell_type": "code",
      "execution_count": null,
      "id": "f55bc982",
      "metadata": {
        "id": "f55bc982"
      },
      "outputs": [],
      "source": [
        "mannwhitney('LogP')"
      ]
    },
    {
      "cell_type": "markdown",
      "id": "743d008b",
      "metadata": {
        "id": "743d008b"
      },
      "source": [
        "#### **NumHDonors or H-bond Donor**"
      ]
    },
    {
      "cell_type": "code",
      "execution_count": null,
      "id": "c9cfb2d7",
      "metadata": {
        "id": "c9cfb2d7"
      },
      "outputs": [],
      "source": [
        "plt.figure(figsize=(5.5, 5.5))\n",
        "\n",
        "sns.boxplot(x = 'class', y = 'NumHDonors', data = df_2class)\n",
        "\n",
        "plt.xlabel('Bioactivity class', fontsize=14, fontweight='bold')\n",
        "plt.ylabel('NumHDonors', fontsize=14, fontweight='bold')\n",
        "\n",
        "plt.savefig('plot_NumHDonors.pdf')"
      ]
    },
    {
      "cell_type": "code",
      "execution_count": null,
      "id": "d22014fd",
      "metadata": {
        "id": "d22014fd"
      },
      "outputs": [],
      "source": [
        "mannwhitney('NumHDonors')"
      ]
    },
    {
      "cell_type": "markdown",
      "id": "ad30328c",
      "metadata": {
        "id": "ad30328c"
      },
      "source": [
        "#### **NumHAcceptors or H-bond Acceptor**"
      ]
    },
    {
      "cell_type": "code",
      "execution_count": null,
      "id": "040d0ebc",
      "metadata": {
        "id": "040d0ebc"
      },
      "outputs": [],
      "source": [
        "plt.figure(figsize=(5.5, 5.5))\n",
        "\n",
        "sns.boxplot(x = 'class', y = 'NumHAcceptors', data = df_2class)\n",
        "\n",
        "plt.xlabel('Bioactivity class', fontsize=14, fontweight='bold')\n",
        "plt.ylabel('NumHAcceptors', fontsize=14, fontweight='bold')\n",
        "\n",
        "plt.savefig('plot_NumHAcceptors.pdf')"
      ]
    },
    {
      "cell_type": "code",
      "execution_count": null,
      "id": "44cd3b1c",
      "metadata": {
        "id": "44cd3b1c"
      },
      "outputs": [],
      "source": [
        "mannwhitney('NumHAcceptors')"
      ]
    },
    {
      "cell_type": "markdown",
      "id": "55d9c3cc",
      "metadata": {
        "id": "55d9c3cc"
      },
      "source": [
        "### **Interpretation of the Statistical Results**\n",
        "\n",
        "In the final part we have run Mannwhitney U test. The Mann-Whitney U test is used to compare differences between two independent groups when the dependent variable is either ordinal or continuous, but not normally distributed.\n",
        "\n",
        "The p-value is a probability that measures the evidence against the null hypothesis. A smaller p-value provides stronger evidence against the null hypothesis."
      ]
    },
    {
      "cell_type": "markdown",
      "id": "cc59a0c4",
      "metadata": {
        "id": "cc59a0c4"
      },
      "source": [
        "#### **Download these results as a Zip files**"
      ]
    },
    {
      "cell_type": "code",
      "execution_count": null,
      "id": "3336b726",
      "metadata": {
        "id": "3336b726"
      },
      "outputs": [],
      "source": [
        "! zip -r Drug_Designing_Part2.zip . -i *.csv *.pdf"
      ]
    }
  ],
  "metadata": {
    "kernelspec": {
      "display_name": "Python 3 (ipykernel)",
      "language": "python",
      "name": "python3"
    },
    "language_info": {
      "codemirror_mode": {
        "name": "ipython",
        "version": 3
      },
      "file_extension": ".py",
      "mimetype": "text/x-python",
      "name": "python",
      "nbconvert_exporter": "python",
      "pygments_lexer": "ipython3",
      "version": "3.10.9"
    },
    "colab": {
      "provenance": []
    }
  },
  "nbformat": 4,
  "nbformat_minor": 5
}