{
 "cells": [
  {
   "cell_type": "markdown",
   "id": "4d1ed024",
   "metadata": {},
   "source": [
    "# **Building of Regression Model with Random Forest Algorithum**\n",
    "In the previous three sessions we have achieved much. We had prepared our target dataset and performed some exploratory analysis on real bioactivity data. Next, we calculated the fingerprints details for the compounds and now we are ready to move toward model building and here we will build regression model and we will use random forest algorithum. During the preparation of these modules, I highly took help and guidance from the materials and lectures of Dr. Chanin Nantasenamat an Associate professor in Bioinformatics. This current Notebook is created and optimized by **Dr. Ashfaq Ahmad**.\n",
    "\n",
    "Please keep a close eye on future application courses. So, we need to move"
   ]
  },
  {
   "cell_type": "markdown",
   "id": "93cf89c8",
   "metadata": {},
   "source": [
    "### **Import Essential Libraries to the Workspace**"
   ]
  },
  {
   "cell_type": "code",
   "execution_count": null,
   "id": "e8e62213",
   "metadata": {},
   "outputs": [],
   "source": [
    "import pandas as pd\n",
    "import seaborn as sns\n",
    "from sklearn.model_selection import train_test_split\n",
    "from sklearn.ensemble import RandomForestRegressor"
   ]
  },
  {
   "cell_type": "markdown",
   "id": "879fcc80",
   "metadata": {},
   "source": [
    "### **Upload Your Data**\n",
    "Below, we are going to upload the data prepared in Part3 and it must be save in your PC. Let's proceed."
   ]
  },
  {
   "cell_type": "code",
   "execution_count": null,
   "id": "b53c8b3e",
   "metadata": {},
   "outputs": [],
   "source": [
    "from google.colab import files\n",
    "uploaded = files.upload()"
   ]
  },
  {
   "cell_type": "code",
   "execution_count": null,
   "id": "4bf1fde2",
   "metadata": {},
   "outputs": [],
   "source": [
    "df = pd.read_csv('P2Y1-06-bioactivity_data_3class_pIC50_pubchem_fp.csv')"
   ]
  },
  {
   "cell_type": "markdown",
   "id": "c9fe7e3b",
   "metadata": {},
   "source": [
    "### **Quick Recape to Input Data and Dimensions**"
   ]
  },
  {
   "cell_type": "code",
   "execution_count": null,
   "id": "fbe0d5c2",
   "metadata": {},
   "outputs": [],
   "source": [
    "X = df.drop('pIC50', axis=1)\n",
    "X"
   ]
  },
  {
   "cell_type": "code",
   "execution_count": null,
   "id": "f1d019f6",
   "metadata": {},
   "outputs": [],
   "source": [
    "Y = df.pIC50\n",
    "Y"
   ]
  },
  {
   "cell_type": "code",
   "execution_count": null,
   "id": "4dac921c",
   "metadata": {},
   "outputs": [],
   "source": [
    "X.shape"
   ]
  },
  {
   "cell_type": "code",
   "execution_count": null,
   "id": "80714453",
   "metadata": {},
   "outputs": [],
   "source": [
    "Y.shape"
   ]
  },
  {
   "cell_type": "markdown",
   "id": "298b1000",
   "metadata": {},
   "source": [
    "### **Remove all the features with low variance**\n",
    "\n",
    "Before to proceed, we need to remove all those features that contain low variance."
   ]
  },
  {
   "cell_type": "code",
   "execution_count": null,
   "id": "bac53bb8",
   "metadata": {},
   "outputs": [],
   "source": [
    "X.shape"
   ]
  },
  {
   "cell_type": "markdown",
   "id": "2a8c6021",
   "metadata": {},
   "source": [
    "### **Data spliting (80/20 ratio) for Model Training**\n",
    "\n",
    "What does 80/20 ratio means? Now we are going to test ML models on the bioactivity data (the data we are handling so far), therefore, we will need our data in two parts of 80% and 20%. The 80% data will be used to train the model and the remaining 20% will be used test the performance of the model."
   ]
  },
  {
   "cell_type": "code",
   "execution_count": null,
   "id": "7e0884ba",
   "metadata": {},
   "outputs": [],
   "source": [
    "X_train, X_test, Y_train, Y_test = train_test_split(X, Y, test_size=0.2)"
   ]
  },
  {
   "cell_type": "code",
   "execution_count": null,
   "id": "124f4514",
   "metadata": {},
   "outputs": [],
   "source": [
    "X_train.shape, Y_train.shape"
   ]
  },
  {
   "cell_type": "markdown",
   "id": "cd552fc9",
   "metadata": {},
   "source": [
    "### **Building a Regression Model with Random Forest Algorithum** "
   ]
  },
  {
   "cell_type": "code",
   "execution_count": null,
   "id": "159319eb",
   "metadata": {},
   "outputs": [],
   "source": [
    "import numpy as np\n",
    "np.random.seed(100)\n",
    "model = RandomForestRegressor(n_estimators=100)\n",
    "model.fit(X_train, Y_train)\n",
    "r2 = model.score(X_test, Y_test)\n",
    "r2"
   ]
  },
  {
   "cell_type": "code",
   "execution_count": null,
   "id": "2825b7a2",
   "metadata": {},
   "outputs": [],
   "source": [
    "Y_pred = model.predict(X_test)"
   ]
  },
  {
   "cell_type": "markdown",
   "id": "102a537c",
   "metadata": {},
   "source": [
    "### **Testing Model**\n",
    "Our model has been built, and here we are ready to test it, therefore we will calculate a Scatter Plot of Experimental vs Predicted pIC50 Values"
   ]
  },
  {
   "cell_type": "code",
   "execution_count": null,
   "id": "de67e78d",
   "metadata": {},
   "outputs": [],
   "source": [
    "import seaborn as sns\n",
    "import matplotlib.pyplot as plt\n",
    "\n",
    "sns.set(color_codes=True)\n",
    "sns.set_style(\"white\")\n",
    "\n",
    "# Assuming Y_test and Y_pred are NumPy arrays or lists containing your data\n",
    "plt.figure(figsize=(5, 5))\n",
    "ax = sns.regplot(x=Y_test, y=Y_pred, scatter_kws={'alpha':0.8})\n",
    "ax.set_xlabel('Experimental pIC50', fontsize='large', fontweight='bold')\n",
    "ax.set_ylabel('Predicted pIC50', fontsize='large', fontweight='bold')\n",
    "ax.set_xlim(2, 12)\n",
    "ax.set_ylim(2, 12)\n",
    "plt.savefig('p1.png', dpi=300)\n",
    "plt.show()"
   ]
  },
  {
   "cell_type": "markdown",
   "id": "424c0926",
   "metadata": {},
   "source": [
    "Save your data this time manually from the right side of the pannel."
   ]
  }
 ],
 "metadata": {
  "kernelspec": {
   "display_name": "Python 3 (ipykernel)",
   "language": "python",
   "name": "python3"
  },
  "language_info": {
   "codemirror_mode": {
    "name": "ipython",
    "version": 3
   },
   "file_extension": ".py",
   "mimetype": "text/x-python",
   "name": "python",
   "nbconvert_exporter": "python",
   "pygments_lexer": "ipython3",
   "version": "3.10.9"
  }
 },
 "nbformat": 4,
 "nbformat_minor": 5
}
