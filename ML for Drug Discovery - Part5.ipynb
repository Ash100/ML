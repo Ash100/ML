{
 "cells": [
  {
   "cell_type": "markdown",
   "id": "e0c3c1a7",
   "metadata": {},
   "source": [
    "# **Comparing Machine Learning Models**\n",
    "*Important Note*: *The main target of this notebook are the people working in the field of biology with a little or no knowledge to code*. \n",
    "\n",
    "Here, we will test differnt Machine Learning Models with Lazypredict to find out the better model that show good efficiency for our data. During the preparation of these modules, I highly took help and guidance from the materials and lectures of Dr. Chanin Nantasenamat an Associate professor in Bioinformatics. This current Notebook is created by **Dr. Ashfaq Ahmad**.\n",
    "\n",
    "So, lets start by Intalling and Importing essentials."
   ]
  },
  {
   "cell_type": "code",
   "execution_count": null,
   "id": "a8f3524a",
   "metadata": {},
   "outputs": [],
   "source": [
    "! pip install lazypredict"
   ]
  },
  {
   "cell_type": "code",
   "execution_count": null,
   "id": "88f9efd7",
   "metadata": {},
   "outputs": [],
   "source": [
    "import pandas as pd\n",
    "import seaborn as sns\n",
    "from sklearn.model_selection import train_test_split\n",
    "import lazypredict\n",
    "from lazypredict.Supervised import LazyRegressor"
   ]
  },
  {
   "cell_type": "markdown",
   "id": "bef16ae9",
   "metadata": {},
   "source": [
    "### **Upload Bioactivity Data **\n",
    "We will upload data prepared in Part3."
   ]
  },
  {
   "cell_type": "code",
   "execution_count": null,
   "id": "83498cf1",
   "metadata": {},
   "outputs": [],
   "source": [
    "from google.colab import files\n",
    "uploaded = files.upload()"
   ]
  },
  {
   "cell_type": "code",
   "execution_count": null,
   "id": "5db2f7ea",
   "metadata": {},
   "outputs": [],
   "source": [
    "df = pd.read_csv('P2Y1-06-bioactivity_data_3class_pIC50_pubchem_fp.csv')"
   ]
  },
  {
   "cell_type": "code",
   "execution_count": null,
   "id": "04480094",
   "metadata": {},
   "outputs": [],
   "source": [
    "X = df.drop('pIC50', axis=1)\n",
    "Y = df.pIC50"
   ]
  },
  {
   "cell_type": "markdown",
   "id": "be6d84f8",
   "metadata": {},
   "source": [
    "### **Data Pre-treatment or Pre-processing**"
   ]
  },
  {
   "cell_type": "code",
   "execution_count": null,
   "id": "08c21717",
   "metadata": {},
   "outputs": [],
   "source": [
    "# Examine X dimension\n",
    "X.shape"
   ]
  },
  {
   "cell_type": "markdown",
   "id": "c610c053",
   "metadata": {},
   "source": [
    "For quick understandings of the above results. The data contains 218 rows (compounds) and 881 columns (features)"
   ]
  },
  {
   "cell_type": "code",
   "execution_count": null,
   "id": "096a8ad3",
   "metadata": {},
   "outputs": [],
   "source": [
    "# Remove low variance features\n",
    "from sklearn.feature_selection import VarianceThreshold\n",
    "selection = VarianceThreshold(threshold=(.8 * (1 - .8)))    \n",
    "X = selection.fit_transform(X)\n",
    "X.shape"
   ]
  },
  {
   "cell_type": "code",
   "execution_count": null,
   "id": "b5f9e388",
   "metadata": {},
   "outputs": [],
   "source": [
    "# Perform data splitting using 80/20 ratio\n",
    "X_train, X_test, Y_train, Y_test = train_test_split(X, Y, test_size=0.2, random_state=42)"
   ]
  },
  {
   "cell_type": "markdown",
   "id": "297ec015",
   "metadata": {},
   "source": [
    "### **Comparision of Machine Learning algorithms**\n",
    "\n",
    "We will build more than 40 ML models below and subsequently will train and test them."
   ]
  },
  {
   "cell_type": "code",
   "execution_count": null,
   "id": "d79bb600",
   "metadata": {},
   "outputs": [],
   "source": [
    "clf = LazyRegressor(verbose=0,ignore_warnings=True, custom_metric=None)\n",
    "models_train,predictions_train = clf.fit(X_train, X_train, Y_train, Y_train)\n",
    "models_test,predictions_test = clf.fit(X_train, X_test, Y_train, Y_test)"
   ]
  },
  {
   "cell_type": "code",
   "execution_count": null,
   "id": "35fc007b",
   "metadata": {},
   "outputs": [],
   "source": [
    "# Performance table of the training set (80% subset)\n",
    "predictions_train"
   ]
  },
  {
   "cell_type": "markdown",
   "id": "869318f7",
   "metadata": {},
   "source": [
    "The above Table can be simply interpreted from the R-Squared values. The lower value represents better performance, and it shown Model efficiency in training. For the test set, we will also analyze below."
   ]
  },
  {
   "cell_type": "code",
   "execution_count": null,
   "id": "83006890",
   "metadata": {},
   "outputs": [],
   "source": [
    "# Performance table of the test set (20% subset)\n",
    "predictions_test"
   ]
  },
  {
   "cell_type": "markdown",
   "id": "571c6c67",
   "metadata": {},
   "source": [
    "### **Model Performance Visualization on the Input Data**"
   ]
  },
  {
   "cell_type": "code",
   "execution_count": null,
   "id": "4bdddded",
   "metadata": {},
   "outputs": [],
   "source": [
    "# Bar plot of R-squared values\n",
    "import matplotlib.pyplot as plt\n",
    "import seaborn as sns\n",
    "\n",
    "#train[\"R-Squared\"] = [0 if i < 0 else i for i in train.iloc[:,0] ]\n",
    "\n",
    "plt.figure(figsize=(5, 10))\n",
    "sns.set_theme(style=\"whitegrid\")\n",
    "ax = sns.barplot(y=predictions_train.index, x=\"R-Squared\", data=predictions_train)\n",
    "ax.set(xlim=(0, 1))"
   ]
  },
  {
   "cell_type": "code",
   "execution_count": null,
   "id": "2736c9b2",
   "metadata": {},
   "outputs": [],
   "source": [
    "# Bar plot of RMSE values\n",
    "import matplotlib.pyplot as plt\n",
    "import seaborn as sns\n",
    "\n",
    "plt.figure(figsize=(5, 10))\n",
    "sns.set_theme(style=\"whitegrid\")\n",
    "ax = sns.barplot(y=predictions_train.index, x=\"RMSE\", data=predictions_train)\n",
    "ax.set(xlim=(0, 10))"
   ]
  },
  {
   "cell_type": "code",
   "execution_count": null,
   "id": "8c8ea85f",
   "metadata": {},
   "outputs": [],
   "source": [
    "# Bar plot of calculation time\n",
    "import matplotlib.pyplot as plt\n",
    "import seaborn as sns\n",
    "\n",
    "plt.figure(figsize=(5, 10))\n",
    "sns.set_theme(style=\"whitegrid\")\n",
    "ax = sns.barplot(y=predictions_train.index, x=\"Time Taken\", data=predictions_train)\n",
    "ax.set(xlim=(0, 10))"
   ]
  },
  {
   "cell_type": "markdown",
   "id": "9de43213",
   "metadata": {},
   "source": [
    "That it. We have built several machine learning models for comparission."
   ]
  }
 ],
 "metadata": {
  "kernelspec": {
   "display_name": "Python 3 (ipykernel)",
   "language": "python",
   "name": "python3"
  },
  "language_info": {
   "codemirror_mode": {
    "name": "ipython",
    "version": 3
   },
   "file_extension": ".py",
   "mimetype": "text/x-python",
   "name": "python",
   "nbconvert_exporter": "python",
   "pygments_lexer": "ipython3",
   "version": "3.10.9"
  }
 },
 "nbformat": 4,
 "nbformat_minor": 5
}
