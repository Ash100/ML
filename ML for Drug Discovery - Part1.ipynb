{
 "cells": [
  {
   "cell_type": "markdown",
   "id": "b7d01d49",
   "metadata": {},
   "source": [
    "# Machine Learning (ML) For Drug Discovery - Part 1\n",
    "This is a complete technology crash course, where you will get a fair idea that how ML works, and how can you use it for a project of Drug Discovery. I have tried my level best to keep things simple, and you do not feel any need to code, therefore, I must say, it suits biologist. Here, I want to acknowledge and refer materials of Dr. Chanin Nantasenamat an Associate professor in Bioinformatics. These materials are compilled by **Dr. Ashfaq Ahmad**.\n",
    "\n",
    "## ChEMBL Database\n",
    "\n",
    "(https://www.ebi.ac.uk/chembl/)\n",
    "\n",
    "ChEMBL is a manually curated database of bioactive molecules with drug-like properties. It brings together chemicals, their bioactivity and genomic data to aid the translation of genomic information into effective new drugs.\n",
    "\n",
    "(**Citation:** *Nucleic Acids Res. 2019; 47(D1):D930-D940. doi: 10.1093/nar/gky1075*)\n",
    "\n",
    "I will train you on the use and importance of ChEMBL database during this part of training. I will also teach you how can we pick and process data from the ChEMBL database. \n",
    "\n",
    "You will be required to execute the cells by clicking the ***Play*** button, with certain changes as per your project details.\n",
    "\n",
    "\n",
    "### Step 1 - Installing and Import Required Libraries\n",
    "\n",
    "Running the following cell will install ChEMBL webresources for the project to initiate.\n",
    "Citation: https://www.ncbi.nlm.nih.gov/pmc/articles/PMC4489283/"
   ]
  },
  {
   "cell_type": "code",
   "execution_count": null,
   "id": "ed7b2d43",
   "metadata": {},
   "outputs": [],
   "source": [
    "! pip install chembl_webresource_client"
   ]
  },
  {
   "cell_type": "code",
   "execution_count": null,
   "id": "cf8b41f6",
   "metadata": {},
   "outputs": [],
   "source": [
    "import pandas as pd\n",
    "from chembl_webresource_client.new_client import new_client"
   ]
  },
  {
   "cell_type": "markdown",
   "id": "528d7e58",
   "metadata": {},
   "source": [
    "### Step 2 - Picking your desired Target from ChEMBL\n",
    "\n",
    "Here we will launch search for the desired target protein or enzyme. To overcome any possibility of a potential mistake, it is highly advised also to confirm you ChEMBL ID from the direct database (ChEMBL) search."
   ]
  },
  {
   "cell_type": "code",
   "execution_count": null,
   "id": "66b61407",
   "metadata": {},
   "outputs": [],
   "source": [
    "# As an example I will use P2Y purinoceptor 1 protein (UniProt Accession P47900)\n",
    "target = new_client.target\n",
    "target_query = target.search('CHEMBL4315')\n",
    "targets = pd.DataFrame.from_dict(target_query)\n",
    "targets"
   ]
  },
  {
   "cell_type": "markdown",
   "id": "949618ee",
   "metadata": {},
   "source": [
    "### Step 3 - Selection and Retrieval Bioactivity data\n",
    "\n",
    "In case you are hit with multiple data lines, then you need to choose the desired data, using the index number below in the cell."
   ]
  },
  {
   "cell_type": "code",
   "execution_count": null,
   "id": "f6f8ac99",
   "metadata": {},
   "outputs": [],
   "source": [
    "selected_target = targets.target_chembl_id[0]\n",
    "selected_target"
   ]
  },
  {
   "cell_type": "markdown",
   "id": "32d06274",
   "metadata": {},
   "source": [
    "If you carefully look to the data columns, you will find variety of variable. Here we are interested to perform analysis for Antagonist, therefore, I will go with IC50 column. Please read about IC50 values incase you are not aware."
   ]
  },
  {
   "cell_type": "code",
   "execution_count": null,
   "id": "e3c69a6f",
   "metadata": {},
   "outputs": [],
   "source": [
    "activity = new_client.activity\n",
    "res = activity.filter(target_chembl_id=selected_target).filter(standard_type=\"IC50\")\n",
    "df = pd.DataFrame.from_dict(res)"
   ]
  },
  {
   "cell_type": "code",
   "execution_count": null,
   "id": "190ab46e",
   "metadata": {},
   "outputs": [],
   "source": [
    "df"
   ]
  },
  {
   "cell_type": "markdown",
   "id": "4f617882",
   "metadata": {},
   "source": [
    "Lets play with the above data that contains too many rows and columns. By running the below command, you will only see the first four data lines."
   ]
  },
  {
   "cell_type": "code",
   "execution_count": null,
   "id": "cb8d913c",
   "metadata": {},
   "outputs": [],
   "source": [
    "df.head(4)"
   ]
  },
  {
   "cell_type": "markdown",
   "id": "3ba4e7e4",
   "metadata": {},
   "source": [
    "The standard_type column in the data contains IC50. If you want to validate, so better to search for the unique features in the standard_type"
   ]
  },
  {
   "cell_type": "code",
   "execution_count": null,
   "id": "382ac914",
   "metadata": {},
   "outputs": [],
   "source": [
    "df.standard_type.unique()"
   ]
  },
  {
   "cell_type": "markdown",
   "id": "d237ce64",
   "metadata": {},
   "source": [
    "Now, here I want you to save your data in the Google Drive. For ease, you need first to connect your gdrive to this notebook."
   ]
  },
  {
   "cell_type": "code",
   "execution_count": null,
   "id": "255872f6",
   "metadata": {},
   "outputs": [],
   "source": [
    "from google.colab import drive\n",
    "drive.mount('/content/gdrive/', force_remount=True)"
   ]
  },
  {
   "cell_type": "markdown",
   "id": "4a6c6094",
   "metadata": {},
   "source": [
    "Once the drive is mounted, please make a new folder with a name data where you can save your work directly"
   ]
  },
  {
   "cell_type": "code",
   "execution_count": null,
   "id": "eff01afb",
   "metadata": {},
   "outputs": [],
   "source": [
    "! ls /content/gdrive/MyDrive/"
   ]
  },
  {
   "cell_type": "code",
   "execution_count": null,
   "id": "ae1cf34d",
   "metadata": {},
   "outputs": [],
   "source": [
    "! mkdir \"/content/gdrive/MyDrive/Colab Notebooks/data\""
   ]
  },
  {
   "cell_type": "markdown",
   "id": "d0bc4305",
   "metadata": {},
   "source": [
    "Now we are now in a position to save our data in a CSV file. I will use the name Bioactivity_data.csv"
   ]
  },
  {
   "cell_type": "code",
   "execution_count": null,
   "id": "7118bef4",
   "metadata": {},
   "outputs": [],
   "source": [
    "df.to_csv('P2Y1-01-bioactivity_data_raw.csv', index=False)"
   ]
  },
  {
   "cell_type": "code",
   "execution_count": null,
   "id": "dec25314",
   "metadata": {},
   "outputs": [],
   "source": [
    "! cp P2Y1-01-bioactivity_data_raw.csv \"/content/gdrive/MyDrive/Colab Notebooks/data\""
   ]
  },
  {
   "cell_type": "code",
   "execution_count": null,
   "id": "b96b3c35",
   "metadata": {},
   "outputs": [],
   "source": [
    "ls \"/content/gdrive/MyDrive/Colab Notebooks/data\""
   ]
  },
  {
   "cell_type": "markdown",
   "id": "17caab8a",
   "metadata": {},
   "source": [
    "How our data looks like, take a look if you want to"
   ]
  },
  {
   "cell_type": "code",
   "execution_count": null,
   "id": "215d98c2",
   "metadata": {},
   "outputs": [],
   "source": [
    "! head P2Y1-01-bioactivity_data_raw.csv"
   ]
  },
  {
   "cell_type": "markdown",
   "id": "e259a6af",
   "metadata": {},
   "source": [
    "### **Step 4 - Treating Missing Data**\n",
    "\n",
    "There comes a possibility that some of the ChEMBL compounds may contain missing value for the **standared_value (IC50)** and **canonical_smiles**. Therefore, we need to remove such entries from the data."
   ]
  },
  {
   "cell_type": "code",
   "execution_count": null,
   "id": "06086b85",
   "metadata": {},
   "outputs": [],
   "source": [
    "df2 = df[df.standard_value.notna()]"
   ]
  },
  {
   "cell_type": "code",
   "execution_count": null,
   "id": "fa918524",
   "metadata": {},
   "outputs": [],
   "source": [
    "df2 = df[df.canonical_smiles.notna()]"
   ]
  },
  {
   "cell_type": "code",
   "execution_count": null,
   "id": "3d43c063",
   "metadata": {},
   "outputs": [],
   "source": [
    "df2"
   ]
  },
  {
   "cell_type": "code",
   "execution_count": null,
   "id": "12b4e0b7",
   "metadata": {},
   "outputs": [],
   "source": [
    "len(df2.canonical_smiles.unique())"
   ]
  },
  {
   "cell_type": "code",
   "execution_count": null,
   "id": "473724d5",
   "metadata": {},
   "outputs": [],
   "source": [
    "df2_nr = df2.drop_duplicates(['canonical_smiles'])"
   ]
  },
  {
   "cell_type": "code",
   "execution_count": null,
   "id": "77735bb1",
   "metadata": {},
   "outputs": [],
   "source": [
    "df2_nr"
   ]
  },
  {
   "cell_type": "markdown",
   "id": "3157cc92",
   "metadata": {},
   "source": [
    "### **Step 5 - Data Preprocessing**\n",
    "\n",
    "We will be interested to keep record of the three columns, **ChEMBL_id**, **canonical_smiles**, and **standard_value**."
   ]
  },
  {
   "cell_type": "code",
   "execution_count": null,
   "id": "cf4bed0f",
   "metadata": {},
   "outputs": [],
   "source": [
    "selection = ['molecule_chembl_id','canonical_smiles','standard_value']\n",
    "df3 = df2_nr[selection]"
   ]
  },
  {
   "cell_type": "code",
   "execution_count": null,
   "id": "31b810be",
   "metadata": {},
   "outputs": [],
   "source": [
    "df3"
   ]
  },
  {
   "cell_type": "markdown",
   "id": "2d92e2a0",
   "metadata": {},
   "source": [
    "Now we need to save data frame or the df3 to the CSV file."
   ]
  },
  {
   "cell_type": "code",
   "execution_count": null,
   "id": "c146227d",
   "metadata": {},
   "outputs": [],
   "source": [
    "df3.to_csv('P2Y1-bioactivity-data-02-preprocessed.csv', index=False)"
   ]
  },
  {
   "cell_type": "markdown",
   "id": "6788eb75",
   "metadata": {},
   "source": [
    "### **Step 6 - Labeling compounds to different categories**\n",
    "\n",
    "Here we will need to categorize these compounds into different catergories, based on the IC50 value or **standard_value**. For the purpose, we will classify three groups, **Active**, **Inactive**, **Intermediate**. Compounds with IC50 value less than 1000 nM will be considered active drugs, those greater than 10,000 nM will be considered inactive and IC50 value in greater than 1000 and below 10,000 will be termed as intermediate."
   ]
  },
  {
   "cell_type": "code",
   "execution_count": null,
   "id": "26de8992",
   "metadata": {},
   "outputs": [],
   "source": [
    "df4 = pd.read_csv('P2Y1-bioactivity-data-02-preprocessed.csv')"
   ]
  },
  {
   "cell_type": "code",
   "execution_count": null,
   "id": "89b3292a",
   "metadata": {},
   "outputs": [],
   "source": [
    "bioactivity_threshold = []\n",
    "for i in df4.standard_value:\n",
    "  if float(i) >= 10000:\n",
    "    bioactivity_threshold.append(\"inactive\")\n",
    "  elif float(i) <= 1000:\n",
    "    bioactivity_threshold.append(\"active\")\n",
    "  else:\n",
    "    bioactivity_threshold.append(\"intermediate\")"
   ]
  },
  {
   "cell_type": "code",
   "execution_count": null,
   "id": "05154c90",
   "metadata": {},
   "outputs": [],
   "source": [
    "bioactivity_class = pd.Series(bioactivity_threshold, name='class')\n",
    "df5 = pd.concat([df4, bioactivity_class], axis=1)"
   ]
  },
  {
   "cell_type": "code",
   "execution_count": null,
   "id": "815668b0",
   "metadata": {},
   "outputs": [],
   "source": [
    "df5"
   ]
  },
  {
   "cell_type": "markdown",
   "id": "fb22145f",
   "metadata": {},
   "source": [
    "Now we need to save the above dataframe or df5 to the CSV file."
   ]
  },
  {
   "cell_type": "code",
   "execution_count": null,
   "id": "a2fc7cda",
   "metadata": {},
   "outputs": [],
   "source": [
    "df5.to_csv('P2Y1_03_bioactivity_data_curated.csv', index=False)"
   ]
  },
  {
   "cell_type": "code",
   "execution_count": null,
   "id": "22035c9a",
   "metadata": {},
   "outputs": [],
   "source": [
    "! zip P2Y1-part1-data.zip *.csv"
   ]
  },
  {
   "cell_type": "code",
   "execution_count": null,
   "id": "70cdc9b7",
   "metadata": {},
   "outputs": [],
   "source": [
    "! cp P2Y1_03_bioactivity_data_curated.csv \"/content/gdrive/MyDrive/Colab Notebooks/data\""
   ]
  },
  {
   "cell_type": "code",
   "execution_count": null,
   "id": "cefc328c",
   "metadata": {},
   "outputs": [],
   "source": [
    "ls \"/content/gdrive/MyDrive/Colab Notebooks/data\""
   ]
  }
 ],
 "metadata": {
  "kernelspec": {
   "display_name": "Python 3 (ipykernel)",
   "language": "python",
   "name": "python3"
  },
  "language_info": {
   "codemirror_mode": {
    "name": "ipython",
    "version": 3
   },
   "file_extension": ".py",
   "mimetype": "text/x-python",
   "name": "python",
   "nbconvert_exporter": "python",
   "pygments_lexer": "ipython3",
   "version": "3.10.9"
  }
 },
 "nbformat": 4,
 "nbformat_minor": 5
}
