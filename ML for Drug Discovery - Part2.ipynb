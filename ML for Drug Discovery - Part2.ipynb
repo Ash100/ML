{
 "cells": [
  {
   "cell_type": "markdown",
   "id": "24622c3b",
   "metadata": {},
   "source": [
    "# **Exploratory Data Analysis**\n",
    "In part 1, we mainly stayed focused to generate a dataset with certain key features or standard_type (IC50). In this section we will use the generated data and to generate or to fix molecular descriptors present in the chemical structures. After successful generation, we will perform some analysis, to what we call Exploratory Data Analysis. I highly acknowledge and refer materials of Dr. Chanin Nantasenamat an Associate professor in Bioinformatics.\n",
    "So Let's Move.\n",
    "This Notebook is created by **Dr. Ashfaq Ahmad**"
   ]
  },
  {
   "cell_type": "markdown",
   "id": "4471a1f4",
   "metadata": {},
   "source": [
    "### **Install Conda and rdkit** "
   ]
  },
  {
   "cell_type": "code",
   "execution_count": null,
   "id": "1410197b",
   "metadata": {},
   "outputs": [],
   "source": [
    "! wget https://repo.anaconda.com/miniconda/Miniconda3-py37_4.8.2-Linux-x86_64.sh\n",
    "! chmod +x Miniconda3-py37_4.8.2-Linux-x86_64.sh\n",
    "! bash ./Miniconda3-py37_4.8.2-Linux-x86_64.sh -b -f -p /usr/local\n",
    "! conda install -c rdkit rdkit -y\n",
    "import sys\n",
    "sys.path.append('/usr/local/lib/python3.7/site-packages/')"
   ]
  },
  {
   "cell_type": "code",
   "execution_count": null,
   "id": "a6d4ae1b",
   "metadata": {},
   "outputs": [],
   "source": [
    "import pandas as pd"
   ]
  },
  {
   "cell_type": "markdown",
   "id": "c85c0d7b",
   "metadata": {},
   "source": [
    "### **Step 1 - Loading (Bioactivity Data) Generated in Part-1**\n",
    "\n",
    "To upload your file, run the following cell. You will be promted to upload your datafile, already prepared and saved in CSV formate."
   ]
  },
  {
   "cell_type": "code",
   "execution_count": null,
   "id": "b909b81f",
   "metadata": {},
   "outputs": [],
   "source": [
    "from google.colab import files\n",
    "uploaded = files.upload()"
   ]
  },
  {
   "cell_type": "code",
   "execution_count": null,
   "id": "9fcd3160",
   "metadata": {},
   "outputs": [],
   "source": [
    "df = pd.read_csv('P2Y1-03_bioactivity_data_curated.csv')"
   ]
  },
  {
   "cell_type": "code",
   "execution_count": null,
   "id": "1febc9e1",
   "metadata": {},
   "outputs": [],
   "source": [
    "df"
   ]
  },
  {
   "cell_type": "code",
   "execution_count": null,
   "id": "6555ac1c",
   "metadata": {},
   "outputs": [],
   "source": [
    "df_no_smiles = df.drop(columns='canonical_smiles')"
   ]
  },
  {
   "cell_type": "code",
   "execution_count": null,
   "id": "58c073c1",
   "metadata": {},
   "outputs": [],
   "source": [
    "smiles = []\n",
    "\n",
    "for i in df.canonical_smiles.tolist():\n",
    "  cpd = str(i).split('.')\n",
    "  cpd_longest = max(cpd, key = len)\n",
    "  smiles.append(cpd_longest)\n",
    "\n",
    "smiles = pd.Series(smiles, name = 'canonical_smiles')"
   ]
  },
  {
   "cell_type": "code",
   "execution_count": null,
   "id": "7432c20e",
   "metadata": {},
   "outputs": [],
   "source": [
    "df_clean_smiles = pd.concat([df_no_smiles,smiles], axis=1)\n",
    "df_clean_smiles"
   ]
  },
  {
   "cell_type": "markdown",
   "id": "27dc5f5d",
   "metadata": {},
   "source": [
    "### **Step 2 - Calculations of Lipinski Descriptors**\n",
    "What are Lipinski rules or Descriptors?\n",
    "\n",
    "A Pfizer scientist, Christopher Lipinski, designed a bunch of rules in evaluating a chemical compound for **druglikeness**. Lipinski analyzed these rules after studying vaste number of FDA-approved drugs in the formulation. In Simple terms, druglikeness is primarily based on the drug Absorption, Distribution, Metabolism and Excretion (ADME) that is also known as the pharmacokinetic profile. Lipinski rules are normally known as  **Rule-of-Five** or **Lipinski's Rule**.\n",
    "\n",
    "The Lipinski's Rule states,\n",
    "* Molecular weight < 500 Dalton\n",
    "* Octanol-water partition coefficient (LogP) < 5\n",
    "* Hydrogen bond donors < 5\n",
    "* Hydrogen bond acceptors < 10 "
   ]
  },
  {
   "cell_type": "markdown",
   "id": "cd8e5e4a",
   "metadata": {},
   "source": [
    "### **Import essential libraries to the workspace**"
   ]
  },
  {
   "cell_type": "code",
   "execution_count": null,
   "id": "06e18cb0",
   "metadata": {},
   "outputs": [],
   "source": [
    "import numpy as np\n",
    "from rdkit import Chem\n",
    "from rdkit.Chem import Descriptors, Lipinski"
   ]
  },
  {
   "cell_type": "markdown",
   "id": "e1848c24",
   "metadata": {},
   "source": [
    "**Now we are in a position to calculate Lipinski descriptors**"
   ]
  },
  {
   "cell_type": "markdown",
   "id": "e3095d7a",
   "metadata": {},
   "source": [
    "### **Step 3 - Calculation of Lipinski Descriptors**"
   ]
  },
  {
   "cell_type": "code",
   "execution_count": null,
   "id": "810b2521",
   "metadata": {},
   "outputs": [],
   "source": [
    "# Inspired by: https://codeocean.com/explore/capsules?query=tag:data-curation\n",
    "\n",
    "def lipinski(smiles, verbose=False):\n",
    "\n",
    "    moldata= []\n",
    "    for elem in smiles:\n",
    "        mol=Chem.MolFromSmiles(elem) \n",
    "        moldata.append(mol)\n",
    "       \n",
    "    baseData= np.arange(1,1)\n",
    "    i=0  \n",
    "    for mol in moldata:        \n",
    "       \n",
    "        desc_MolWt = Descriptors.MolWt(mol)\n",
    "        desc_MolLogP = Descriptors.MolLogP(mol)\n",
    "        desc_NumHDonors = Lipinski.NumHDonors(mol)\n",
    "        desc_NumHAcceptors = Lipinski.NumHAcceptors(mol)\n",
    "           \n",
    "        row = np.array([desc_MolWt,\n",
    "                        desc_MolLogP,\n",
    "                        desc_NumHDonors,\n",
    "                        desc_NumHAcceptors])   \n",
    "    \n",
    "        if(i==0):\n",
    "            baseData=row\n",
    "        else:\n",
    "            baseData=np.vstack([baseData, row])\n",
    "        i=i+1      \n",
    "    \n",
    "    columnNames=[\"MW\",\"LogP\",\"NumHDonors\",\"NumHAcceptors\"]   \n",
    "    descriptors = pd.DataFrame(data=baseData,columns=columnNames)\n",
    "    \n",
    "    return descriptors"
   ]
  },
  {
   "cell_type": "code",
   "execution_count": null,
   "id": "3a66cb89",
   "metadata": {},
   "outputs": [],
   "source": [
    "df_lipinski = lipinski(df_clean_smiles.canonical_smiles)"
   ]
  },
  {
   "cell_type": "code",
   "execution_count": null,
   "id": "4cbd2cd6",
   "metadata": {},
   "outputs": [],
   "source": [
    "df_lipinski"
   ]
  },
  {
   "cell_type": "markdown",
   "id": "f8bd01b0",
   "metadata": {},
   "source": [
    "So far we have two dataframes, the df_lipinski and the df. We need to combine both these two frames into a single frame. If you want to see, these two frames, run the two cells below."
   ]
  },
  {
   "cell_type": "code",
   "execution_count": null,
   "id": "c99cad32",
   "metadata": {},
   "outputs": [],
   "source": [
    "df_lipinski"
   ]
  },
  {
   "cell_type": "code",
   "execution_count": null,
   "id": "8fdff769",
   "metadata": {},
   "outputs": [],
   "source": [
    "df"
   ]
  },
  {
   "cell_type": "markdown",
   "id": "59e9bce4",
   "metadata": {},
   "source": [
    "Lets Combine"
   ]
  },
  {
   "cell_type": "code",
   "execution_count": null,
   "id": "b3282f38",
   "metadata": {},
   "outputs": [],
   "source": [
    "df_combined = pd.concat([df,df_lipinski], axis=1)"
   ]
  },
  {
   "cell_type": "code",
   "execution_count": null,
   "id": "83a9405f",
   "metadata": {},
   "outputs": [],
   "source": [
    "df_combined"
   ]
  },
  {
   "cell_type": "markdown",
   "id": "238ee9b3",
   "metadata": {},
   "source": [
    "### **Step 4 - Convert IC50 to pIC50**\n",
    "The **IC50** values are normally too much diverse therefore we need to the data to be more uniformly distributed, and for the reason we will convert **IC50** to the negative logarithmic scale which is essentially **-log10(IC50)** or **pIC50**\n",
    "\n",
    "Next we will use the custom function pIC50() which will accept a DataFrame as input and will output,\n",
    "* Take the IC50 values from the ``standard_value`` column and converts it from nM (nanoMolar) to M (molar) concentration by multiplying the value by 10$^{-9}$\n",
    "* Take the molar value and apply -log10\n",
    "* Delete the ``standard_value`` column and create a new ``pIC50`` column.\n",
    "\n",
    "Point to note: These calculations will also normalize the data and values greater than 100,000,000 will be fixed at 100,000,000 otherwise the negative logarithmic value will become negative."
   ]
  },
  {
   "cell_type": "code",
   "execution_count": null,
   "id": "4bc39b24",
   "metadata": {},
   "outputs": [],
   "source": [
    "import numpy as np\n",
    "\n",
    "def pIC50(input):\n",
    "    pIC50 = []\n",
    "\n",
    "    for i in input['standard_value_norm']:\n",
    "        molar = i*(10**-9) # Converts nM to M\n",
    "        pIC50.append(-np.log10(molar))\n",
    "\n",
    "    input['pIC50'] = pIC50\n",
    "    x = input.drop('standard_value_norm', 1)\n",
    "        \n",
    "    return x"
   ]
  },
  {
   "cell_type": "code",
   "execution_count": null,
   "id": "d27ab87d",
   "metadata": {},
   "outputs": [],
   "source": [
    "df_combined.standard_value.describe()"
   ]
  },
  {
   "cell_type": "code",
   "execution_count": null,
   "id": "1758b929",
   "metadata": {},
   "outputs": [],
   "source": [
    "-np.log10( (10**-9)* 100000000 )"
   ]
  },
  {
   "cell_type": "code",
   "execution_count": null,
   "id": "1ac5d7e1",
   "metadata": {},
   "outputs": [],
   "source": [
    "-np.log10( (10**-9)* 10000000000 )"
   ]
  },
  {
   "cell_type": "code",
   "execution_count": null,
   "id": "0bc3730b",
   "metadata": {},
   "outputs": [],
   "source": [
    "def norm_value(input):\n",
    "    norm = []\n",
    "\n",
    "    for i in input['standard_value']:\n",
    "        if i > 100000000:\n",
    "          i = 100000000\n",
    "        norm.append(i)\n",
    "\n",
    "    input['standard_value_norm'] = norm\n",
    "    x = input.drop('standard_value', 1)\n",
    "        \n",
    "    return x"
   ]
  },
  {
   "cell_type": "code",
   "execution_count": null,
   "id": "0f904753",
   "metadata": {},
   "outputs": [],
   "source": [
    "df_norm = norm_value(df_combined)"
   ]
  },
  {
   "cell_type": "code",
   "execution_count": null,
   "id": "9dc1e5cd",
   "metadata": {},
   "outputs": [],
   "source": [
    "df_norm"
   ]
  },
  {
   "cell_type": "code",
   "execution_count": null,
   "id": "d220be41",
   "metadata": {},
   "outputs": [],
   "source": [
    "df_norm.standard_value_norm.describe()"
   ]
  },
  {
   "cell_type": "code",
   "execution_count": null,
   "id": "9541f3c2",
   "metadata": {},
   "outputs": [],
   "source": [
    "df_final = pIC50(df_norm)"
   ]
  },
  {
   "cell_type": "code",
   "execution_count": null,
   "id": "9ab8fc3a",
   "metadata": {},
   "outputs": [],
   "source": [
    "df_final"
   ]
  },
  {
   "cell_type": "code",
   "execution_count": null,
   "id": "2ac381bb",
   "metadata": {},
   "outputs": [],
   "source": [
    "df_final.pIC50.describe()"
   ]
  },
  {
   "cell_type": "markdown",
   "id": "0c4b8204",
   "metadata": {},
   "source": [
    "Now, we are in a position to save our data into CSV file"
   ]
  },
  {
   "cell_type": "code",
   "execution_count": null,
   "id": "89b3947f",
   "metadata": {},
   "outputs": [],
   "source": [
    "df_final.to_csv('P2Y1_04_bioactivity_data_3class_pIC50.csv')"
   ]
  },
  {
   "cell_type": "markdown",
   "id": "79261e74",
   "metadata": {},
   "source": [
    "### **Step 5 - Removal of the intermediate class from the whole data**\n",
    "Here we are going to drop the compounds with intermediate bioactivity. We will drop them because we want to compare the active and inactive class."
   ]
  },
  {
   "cell_type": "code",
   "execution_count": null,
   "id": "dcd48e5b",
   "metadata": {},
   "outputs": [],
   "source": [
    "df_2class = df_final[df_final['class'] != 'intermediate']\n",
    "df_2class"
   ]
  },
  {
   "cell_type": "markdown",
   "id": "bc84430a",
   "metadata": {},
   "source": [
    "Write results to the CSV file"
   ]
  },
  {
   "cell_type": "code",
   "execution_count": null,
   "id": "fb61e2ac",
   "metadata": {},
   "outputs": [],
   "source": [
    "df_2class.to_csv('P2Y1_05_bioactivity_data_2class_pIC50.csv')"
   ]
  },
  {
   "cell_type": "markdown",
   "id": "f0d7ccbf",
   "metadata": {},
   "source": [
    "## **Exploratory Data Analysis OR Chemical Space Analysis through Lipinski descriptors**"
   ]
  },
  {
   "cell_type": "markdown",
   "id": "2e79b602",
   "metadata": {},
   "source": [
    "### **Step 6 - Import Essential Libraries** "
   ]
  },
  {
   "cell_type": "code",
   "execution_count": null,
   "id": "e8fd8d13",
   "metadata": {},
   "outputs": [],
   "source": [
    "import seaborn as sns\n",
    "sns.set(style='ticks')\n",
    "import matplotlib.pyplot as plt"
   ]
  },
  {
   "cell_type": "markdown",
   "id": "25f797ee",
   "metadata": {},
   "source": [
    "### **Analysis of Frequency plot of the two bioactivity classes**"
   ]
  },
  {
   "cell_type": "code",
   "execution_count": null,
   "id": "82807f8d",
   "metadata": {},
   "outputs": [],
   "source": [
    "plt.figure(figsize=(5.5, 5.5))\n",
    "\n",
    "sns.countplot(x='class', data=df_2class, edgecolor='black')\n",
    "\n",
    "plt.xlabel('Bioactivity class', fontsize=14, fontweight='bold')\n",
    "plt.ylabel('Frequency', fontsize=14, fontweight='bold')"
   ]
  },
  {
   "cell_type": "code",
   "execution_count": null,
   "id": "311b2089",
   "metadata": {},
   "outputs": [],
   "source": [
    "plt.savefig('plot_bioactivity_class.pdf')"
   ]
  },
  {
   "cell_type": "markdown",
   "id": "c8b4a8a8",
   "metadata": {},
   "source": [
    "### **Scatter plot of Molecular Weight (MW) versus LogP (Solubility)**\n",
    "\n",
    "It can be seen that the 2 bioactivity classes are not taking or spanning a kind of similar chemical spaces as evident by the scatter plot of MW vs LogP.\n",
    "In below function, **x** and **y** are for the legends on these axis. **data** means, data to be plotted. **hue** represents the coloring scheme, and here we are interested to be based on the bioactivity class. **size** are for the sphere size and will be proportional to the pIC50 value. sphere **edges** will be black and transperancy threshould or *alpha* of the picture is 0.7. You can adjusted if required."
   ]
  },
  {
   "cell_type": "code",
   "execution_count": null,
   "id": "51c91941",
   "metadata": {},
   "outputs": [],
   "source": [
    "plt.figure(figsize=(5.5, 5.5))\n",
    "\n",
    "sns.scatterplot(x='MW', y='LogP', data=df_2class, hue='class', size='pIC50', edgecolor='black', alpha=0.7)\n",
    "\n",
    "plt.xlabel('MW', fontsize=14, fontweight='bold')\n",
    "plt.ylabel('LogP', fontsize=14, fontweight='bold')\n",
    "plt.legend(bbox_to_anchor=(1.05, 1), loc=2, borderaxespad=0)\n",
    "plt.savefig('plot_MW_vs_LogP.pdf')"
   ]
  },
  {
   "cell_type": "markdown",
   "id": "665facb5",
   "metadata": {},
   "source": [
    "### **Box plots**\n",
    "Lets do some calculations with Box plot"
   ]
  },
  {
   "cell_type": "markdown",
   "id": "1c6f1789",
   "metadata": {},
   "source": [
    "#### **pIC50 value**"
   ]
  },
  {
   "cell_type": "code",
   "execution_count": null,
   "id": "1bdd28a5",
   "metadata": {},
   "outputs": [],
   "source": [
    "plt.figure(figsize=(5.5, 5.5))\n",
    "\n",
    "sns.boxplot(x = 'class', y = 'pIC50', data = df_2class)\n",
    "\n",
    "plt.xlabel('Bioactivity class', fontsize=14, fontweight='bold')\n",
    "plt.ylabel('pIC50 value', fontsize=14, fontweight='bold')\n",
    "\n",
    "plt.savefig('plot_IC50.pdf')"
   ]
  },
  {
   "cell_type": "markdown",
   "id": "3daec45d",
   "metadata": {},
   "source": [
    "### **Statistical analysis | Mann-Whitney U Test**"
   ]
  },
  {
   "cell_type": "code",
   "execution_count": null,
   "id": "eadee1d3",
   "metadata": {},
   "outputs": [],
   "source": [
    "def mannwhitney(descriptor, verbose=False):\n",
    "  # https://machinelearningmastery.com/nonparametric-statistical-significance-tests-in-python/\n",
    "  from numpy.random import seed\n",
    "  from numpy.random import randn\n",
    "  from scipy.stats import mannwhitneyu\n",
    "\n",
    "# seed the random number generator\n",
    "  seed(1)\n",
    "\n",
    "# actives and inactives\n",
    "  selection = [descriptor, 'class']\n",
    "  df = df_2class[selection]\n",
    "  active = df[df['class'] == 'active']\n",
    "  active = active[descriptor]\n",
    "\n",
    "  selection = [descriptor, 'class']\n",
    "  df = df_2class[selection]\n",
    "  inactive = df[df['class'] == 'inactive']\n",
    "  inactive = inactive[descriptor]\n",
    "\n",
    "# compare samples\n",
    "  stat, p = mannwhitneyu(active, inactive)\n",
    "  #print('Statistics=%.3f, p=%.3f' % (stat, p))\n",
    "\n",
    "# interpret\n",
    "  alpha = 0.05\n",
    "  if p > alpha:\n",
    "    interpretation = 'Same distribution (fail to reject H0)'\n",
    "  else:\n",
    "    interpretation = 'Different distribution (reject H0)'\n",
    "  \n",
    "  results = pd.DataFrame({'Descriptor':descriptor,\n",
    "                          'Statistics':stat,\n",
    "                          'p':p,\n",
    "                          'alpha':alpha,\n",
    "                          'Interpretation':interpretation}, index=[0])\n",
    "  filename = 'mannwhitneyu_' + descriptor + '.csv'\n",
    "  results.to_csv(filename)\n",
    "\n",
    "  return results"
   ]
  },
  {
   "cell_type": "code",
   "execution_count": null,
   "id": "3530055a",
   "metadata": {},
   "outputs": [],
   "source": [
    "mannwhitney('pIC50')"
   ]
  },
  {
   "cell_type": "markdown",
   "id": "402c7ceb",
   "metadata": {},
   "source": [
    "#### **Molecular Weight (MW)**"
   ]
  },
  {
   "cell_type": "code",
   "execution_count": null,
   "id": "abbdaa0b",
   "metadata": {},
   "outputs": [],
   "source": [
    "plt.figure(figsize=(5.5, 5.5))\n",
    "\n",
    "sns.boxplot(x = 'class', y = 'MW', data = df_2class)\n",
    "\n",
    "plt.xlabel('Bioactivity class', fontsize=14, fontweight='bold')\n",
    "plt.ylabel('MW', fontsize=14, fontweight='bold')\n",
    "\n",
    "plt.savefig('plot_MW.pdf')"
   ]
  },
  {
   "cell_type": "code",
   "execution_count": null,
   "id": "cea4b429",
   "metadata": {},
   "outputs": [],
   "source": [
    "mannwhitney('MW')"
   ]
  },
  {
   "cell_type": "markdown",
   "id": "0329bcd5",
   "metadata": {},
   "source": [
    "#### **LogP or Solubility**"
   ]
  },
  {
   "cell_type": "code",
   "execution_count": null,
   "id": "d2088ef2",
   "metadata": {},
   "outputs": [],
   "source": [
    "plt.figure(figsize=(5.5, 5.5))\n",
    "\n",
    "sns.boxplot(x = 'class', y = 'LogP', data = df_2class)\n",
    "\n",
    "plt.xlabel('Bioactivity class', fontsize=14, fontweight='bold')\n",
    "plt.ylabel('LogP', fontsize=14, fontweight='bold')\n",
    "\n",
    "plt.savefig('plot_LogP.pdf')"
   ]
  },
  {
   "cell_type": "code",
   "execution_count": null,
   "id": "f55bc982",
   "metadata": {},
   "outputs": [],
   "source": [
    "mannwhitney('LogP')"
   ]
  },
  {
   "cell_type": "markdown",
   "id": "743d008b",
   "metadata": {},
   "source": [
    "#### **NumHDonors or H-bond Donor**"
   ]
  },
  {
   "cell_type": "code",
   "execution_count": null,
   "id": "c9cfb2d7",
   "metadata": {},
   "outputs": [],
   "source": [
    "plt.figure(figsize=(5.5, 5.5))\n",
    "\n",
    "sns.boxplot(x = 'class', y = 'NumHDonors', data = df_2class)\n",
    "\n",
    "plt.xlabel('Bioactivity class', fontsize=14, fontweight='bold')\n",
    "plt.ylabel('NumHDonors', fontsize=14, fontweight='bold')\n",
    "\n",
    "plt.savefig('plot_NumHDonors.pdf')"
   ]
  },
  {
   "cell_type": "code",
   "execution_count": null,
   "id": "d22014fd",
   "metadata": {},
   "outputs": [],
   "source": [
    "mannwhitney('NumHDonors')"
   ]
  },
  {
   "cell_type": "markdown",
   "id": "ad30328c",
   "metadata": {},
   "source": [
    "#### **NumHAcceptors or H-bond Acceptor** "
   ]
  },
  {
   "cell_type": "code",
   "execution_count": null,
   "id": "040d0ebc",
   "metadata": {},
   "outputs": [],
   "source": [
    "plt.figure(figsize=(5.5, 5.5))\n",
    "\n",
    "sns.boxplot(x = 'class', y = 'NumHAcceptors', data = df_2class)\n",
    "\n",
    "plt.xlabel('Bioactivity class', fontsize=14, fontweight='bold')\n",
    "plt.ylabel('NumHAcceptors', fontsize=14, fontweight='bold')\n",
    "\n",
    "plt.savefig('plot_NumHAcceptors.pdf')"
   ]
  },
  {
   "cell_type": "code",
   "execution_count": null,
   "id": "44cd3b1c",
   "metadata": {},
   "outputs": [],
   "source": [
    "mannwhitney('NumHAcceptors')"
   ]
  },
  {
   "cell_type": "markdown",
   "id": "55d9c3cc",
   "metadata": {},
   "source": [
    "### **Interpretation of the Statistical Results**\n",
    "\n",
    "In the final part we have run Mannwhitney U test. The Mann-Whitney U test is used to compare differences between two independent groups when the dependent variable is either ordinal or continuous, but not normally distributed.\n",
    "\n",
    "The p-value is a probability that measures the evidence against the null hypothesis. A smaller p-value provides stronger evidence against the null hypothesis."
   ]
  },
  {
   "cell_type": "markdown",
   "id": "cc59a0c4",
   "metadata": {},
   "source": [
    "#### **Download these results as a Zip files**"
   ]
  },
  {
   "cell_type": "code",
   "execution_count": null,
   "id": "3336b726",
   "metadata": {},
   "outputs": [],
   "source": [
    "! zip -r Drug_Designing_Part2.zip . -i *.csv *.pdf"
   ]
  }
 ],
 "metadata": {
  "kernelspec": {
   "display_name": "Python 3 (ipykernel)",
   "language": "python",
   "name": "python3"
  },
  "language_info": {
   "codemirror_mode": {
    "name": "ipython",
    "version": 3
   },
   "file_extension": ".py",
   "mimetype": "text/x-python",
   "name": "python",
   "nbconvert_exporter": "python",
   "pygments_lexer": "ipython3",
   "version": "3.10.9"
  }
 },
 "nbformat": 4,
 "nbformat_minor": 5
}
